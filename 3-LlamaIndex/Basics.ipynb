{
  "nbformat": 4,
  "nbformat_minor": 0,
  "metadata": {
    "colab": {
      "provenance": []
    },
    "kernelspec": {
      "name": "python3",
      "display_name": "Python 3"
    },
    "language_info": {
      "name": "python"
    }
  },
  "cells": [
    {
      "cell_type": "code",
      "execution_count": 4,
      "metadata": {
        "collapsed": true,
        "id": "PRlPRYhoXYLf"
      },
      "outputs": [],
      "source": [
        "# pip install llama-index-llms-huggingface-api llama-index-embeddings-huggingface"
      ]
    },
    {
      "cell_type": "code",
      "source": [
        "# !pip install python-dotenv"
      ],
      "metadata": {
        "id": "wX5i6ZrzYNhb"
      },
      "execution_count": 5,
      "outputs": []
    },
    {
      "cell_type": "code",
      "source": [
        "# !pip install llama-index-llms-groq"
      ],
      "metadata": {
        "id": "h34X3LtiYwsB"
      },
      "execution_count": 9,
      "outputs": []
    },
    {
      "cell_type": "markdown",
      "source": [
        "## Simple setup"
      ],
      "metadata": {
        "id": "SiegzAacaMEE"
      }
    },
    {
      "cell_type": "code",
      "source": [
        "from llama_index.llms.groq import Groq\n",
        "import os\n",
        "from google.colab import userdata\n",
        "\n",
        "llm = Groq(model=\"llama3-70b-8192\", api_key=userdata.get('groq_api'))\n",
        "\n",
        "response = llm.complete(\"Hello, how are you?\")\n",
        "print(response)\n"
      ],
      "metadata": {
        "colab": {
          "base_uri": "https://localhost:8080/"
        },
        "id": "s5aJMXwGXeMX",
        "outputId": "49306c0c-f3da-442a-90f3-ee87641f5398"
      },
      "execution_count": 16,
      "outputs": [
        {
          "output_type": "stream",
          "name": "stdout",
          "text": [
            "I'm just a language model, I don't have emotions or feelings like humans do, so I don't have good or bad days. However, I'm functioning properly and ready to assist you with any questions or tasks you may have! How can I help you today?\n"
          ]
        }
      ]
    },
    {
      "cell_type": "code",
      "source": [],
      "metadata": {
        "id": "QDsziFeoaJhP"
      },
      "execution_count": null,
      "outputs": []
    }
  ]
}