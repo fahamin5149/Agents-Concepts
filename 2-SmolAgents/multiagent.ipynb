{
 "cells": [
  {
   "cell_type": "code",
   "execution_count": 2,
   "id": "11fa26b8",
   "metadata": {},
   "outputs": [],
   "source": [
    "# pip install 'smolagents[litellm]' plotly geopandas shapely kaleido -q"
   ]
  },
  {
   "cell_type": "markdown",
   "id": "4e4d453c",
   "metadata": {},
   "source": [
    "## Calculating distance tool"
   ]
  },
  {
   "cell_type": "code",
   "execution_count": 1,
   "id": "67ab7318",
   "metadata": {},
   "outputs": [
    {
     "name": "stdout",
     "output_type": "stream",
     "text": [
      "22.82\n"
     ]
    }
   ],
   "source": [
    "import math\n",
    "from typing import Optional, Tuple\n",
    "\n",
    "from smolagents import tool\n",
    "\n",
    "\n",
    "@tool\n",
    "def calculate_cargo_travel_time(\n",
    "    origin_coords: Tuple[float, float],\n",
    "    destination_coords: Tuple[float, float],\n",
    "    cruising_speed_kmh: Optional[float] = 750.0,  # Average speed for cargo planes\n",
    ") -> float:\n",
    "    \"\"\"\n",
    "    Calculate the travel time for a cargo plane between two points on Earth using great-circle distance.\n",
    "\n",
    "    Args:\n",
    "        origin_coords: Tuple of (latitude, longitude) for the starting point\n",
    "        destination_coords: Tuple of (latitude, longitude) for the destination\n",
    "        cruising_speed_kmh: Optional cruising speed in km/h (defaults to 750 km/h for typical cargo planes)\n",
    "\n",
    "    Returns:\n",
    "        float: The estimated travel time in hours\n",
    "\n",
    "    Example:\n",
    "        >>> # Chicago (41.8781° N, 87.6298° W) to Sydney (33.8688° S, 151.2093° E)\n",
    "        >>> result = calculate_cargo_travel_time((41.8781, -87.6298), (-33.8688, 151.2093))\n",
    "    \"\"\"\n",
    "\n",
    "    def to_radians(degrees: float) -> float:\n",
    "        return degrees * (math.pi / 180)\n",
    "\n",
    "    # Extract coordinates\n",
    "    lat1, lon1 = map(to_radians, origin_coords)\n",
    "    lat2, lon2 = map(to_radians, destination_coords)\n",
    "\n",
    "    # Earth's radius in kilometers\n",
    "    EARTH_RADIUS_KM = 6371.0\n",
    "\n",
    "    # Calculate great-circle distance using the haversine formula\n",
    "    dlon = lon2 - lon1\n",
    "    dlat = lat2 - lat1\n",
    "\n",
    "    a = (\n",
    "        math.sin(dlat / 2) ** 2\n",
    "        + math.cos(lat1) * math.cos(lat2) * math.sin(dlon / 2) ** 2\n",
    "    )\n",
    "    c = 2 * math.asin(math.sqrt(a))\n",
    "    distance = EARTH_RADIUS_KM * c\n",
    "\n",
    "    # Add 10% to account for non-direct routes and air traffic controls\n",
    "    actual_distance = distance * 1.1\n",
    "\n",
    "    # Calculate flight time\n",
    "    # Add 1 hour for takeoff and landing procedures\n",
    "    flight_time = (actual_distance / cruising_speed_kmh) + 1.0\n",
    "\n",
    "    # Format the results\n",
    "    return round(flight_time, 2)\n",
    "\n",
    "\n",
    "print(calculate_cargo_travel_time((41.8781, -87.6298), (-33.8688, 151.2093)))"
   ]
  },
  {
   "cell_type": "markdown",
   "id": "d9d10a63",
   "metadata": {},
   "source": [
    "## setting up HF model"
   ]
  },
  {
   "cell_type": "code",
   "execution_count": 8,
   "id": "4270b86b",
   "metadata": {
    "scrolled": true
   },
   "outputs": [
    {
     "data": {
      "application/vnd.jupyter.widget-view+json": {
       "model_id": "06856508b91244378dbf4177ac8a4968",
       "version_major": 2,
       "version_minor": 0
      },
      "text/plain": [
       "VBox(children=(HTML(value='<center> <img\\nsrc=https://huggingface.co/front/assets/huggingface_logo-noborder.sv…"
      ]
     },
     "metadata": {},
     "output_type": "display_data"
    },
    {
     "name": "stderr",
     "output_type": "stream",
     "text": [
      "Note: Environment variable`HF_TOKEN` is set and is the current active token independently from the token you've just configured.\n"
     ]
    }
   ],
   "source": [
    "## HFApiModel Serverless API\n",
    "\n",
    "from huggingface_hub import login\n",
    "\n",
    "login()"
   ]
  },
  {
   "cell_type": "code",
   "execution_count": 2,
   "id": "eede7ec1",
   "metadata": {},
   "outputs": [
    {
     "data": {
      "text/plain": [
       "True"
      ]
     },
     "execution_count": 2,
     "metadata": {},
     "output_type": "execute_result"
    }
   ],
   "source": [
    "import os\n",
    "from dotenv import load_dotenv\n",
    "\n",
    "load_dotenv()"
   ]
  },
  {
   "cell_type": "markdown",
   "id": "5b44ed50",
   "metadata": {},
   "source": [
    "## Setting up GROK"
   ]
  },
  {
   "cell_type": "code",
   "execution_count": 3,
   "id": "3924d5d1",
   "metadata": {},
   "outputs": [],
   "source": [
    "os.environ[\"GROK_TOKEN\"]=os.getenv(\"GROK_TOKEN\")\n",
    "\n",
    "from smolagents import CodeAgent\n",
    "from smolagents.models import LiteLLMModel\n",
    "import os\n",
    "\n",
    "os.environ[\"GROQ_API_KEY\"] = os.getenv(\"GROK_TOKEN\")\n",
    "\n",
    "model = LiteLLMModel(\n",
    "    model_id=\"groq/llama3-70b-8192\",\n",
    "    model=\"groq/llama3-8b-8192\",  \n",
    "    api_base=\"https://api.groq.com/openai/v1\",\n",
    "    max_tokens=500 \n",
    ")\n",
    "\n",
    "# Required for Groq compatibility\n",
    "model._flatten_messages_as_text = True"
   ]
  },
  {
   "cell_type": "markdown",
   "id": "373b9f16",
   "metadata": {},
   "source": [
    "## HF model"
   ]
  },
  {
   "cell_type": "code",
   "execution_count": 7,
   "id": "9ac7ef6c",
   "metadata": {},
   "outputs": [],
   "source": [
    "import os\n",
    "from PIL import Image\n",
    "from smolagents import CodeAgent, GoogleSearchTool, HfApiModel, VisitWebpageTool\n",
    "\n",
    "# model = HfApiModel(model_id=\"Qwen/Qwen2.5-Coder-32B-Instruct\", provider=\"together\")"
   ]
  },
  {
   "cell_type": "code",
   "execution_count": 11,
   "id": "25d1cb9d",
   "metadata": {},
   "outputs": [
    {
     "data": {
      "text/plain": [
       "<smolagents.models.HfApiModel at 0x2007fc88b50>"
      ]
     },
     "execution_count": 11,
     "metadata": {},
     "output_type": "execute_result"
    }
   ],
   "source": [
    "model"
   ]
  },
  {
   "cell_type": "markdown",
   "id": "fbcb4b64",
   "metadata": {},
   "source": [
    "## Serper API"
   ]
  },
  {
   "cell_type": "code",
   "execution_count": 5,
   "id": "ab57c0e0",
   "metadata": {},
   "outputs": [],
   "source": [
    "os.environ[\"SERPER_API_KEY\"] = os.getenv(\"SERPER_API_KEY\")"
   ]
  },
  {
   "cell_type": "markdown",
   "id": "d712ceb3",
   "metadata": {},
   "source": [
    "## Running agent"
   ]
  },
  {
   "cell_type": "code",
   "execution_count": 23,
   "id": "0e2e34ea",
   "metadata": {},
   "outputs": [],
   "source": [
    "task = \"\"\"Find 5 Batman filming locations in the world, calculate the time to transfer via cargo plane to here (we're in Gotham, 40.7128° N, 74.0060° W), and return them to me as a pandas dataframe.\n",
    "Also give me some supercar factories with the same cargo plane transfer time.\"\"\""
   ]
  },
  {
   "cell_type": "code",
   "execution_count": 25,
   "id": "0cc93a2a",
   "metadata": {},
   "outputs": [],
   "source": [
    "agent = CodeAgent(\n",
    "    model=model,\n",
    "    tools=[GoogleSearchTool(\"serper\"), VisitWebpageTool(), calculate_cargo_travel_time],\n",
    "    additional_authorized_imports=[\"pandas\"],\n",
    "    max_steps=20,\n",
    ")"
   ]
  },
  {
   "cell_type": "code",
   "execution_count": 26,
   "id": "17c2b0c1",
   "metadata": {},
   "outputs": [
    {
     "data": {
      "text/html": [
       "<pre style=\"white-space:pre;overflow-x:auto;line-height:normal;font-family:Menlo,'DejaVu Sans Mono',consolas,'Courier New',monospace\"><span style=\"color: #d4b702; text-decoration-color: #d4b702\">╭──────────────────────────────────────────────────── </span><span style=\"color: #d4b702; text-decoration-color: #d4b702; font-weight: bold\">New run</span><span style=\"color: #d4b702; text-decoration-color: #d4b702\"> ────────────────────────────────────────────────────╮</span>\n",
       "<span style=\"color: #d4b702; text-decoration-color: #d4b702\">│</span>                                                                                                                 <span style=\"color: #d4b702; text-decoration-color: #d4b702\">│</span>\n",
       "<span style=\"color: #d4b702; text-decoration-color: #d4b702\">│</span> <span style=\"font-weight: bold\">Find 5 Batman filming locations in the world, calculate the time to transfer via cargo plane to here (we're in </span> <span style=\"color: #d4b702; text-decoration-color: #d4b702\">│</span>\n",
       "<span style=\"color: #d4b702; text-decoration-color: #d4b702\">│</span> <span style=\"font-weight: bold\">Gotham, 40.7128° N, 74.0060° W), and return them to me as a pandas dataframe.</span>                                   <span style=\"color: #d4b702; text-decoration-color: #d4b702\">│</span>\n",
       "<span style=\"color: #d4b702; text-decoration-color: #d4b702\">│</span> <span style=\"font-weight: bold\">Also give me some supercar factories with the same cargo plane transfer time.</span>                                   <span style=\"color: #d4b702; text-decoration-color: #d4b702\">│</span>\n",
       "<span style=\"color: #d4b702; text-decoration-color: #d4b702\">│</span>                                                                                                                 <span style=\"color: #d4b702; text-decoration-color: #d4b702\">│</span>\n",
       "<span style=\"color: #d4b702; text-decoration-color: #d4b702\">╰─ LiteLLMModel - groq/llama3-70b-8192 ───────────────────────────────────────────────────────────────────────────╯</span>\n",
       "</pre>\n"
      ],
      "text/plain": [
       "\u001b[38;2;212;183;2m╭─\u001b[0m\u001b[38;2;212;183;2m───────────────────────────────────────────────────\u001b[0m\u001b[38;2;212;183;2m \u001b[0m\u001b[1;38;2;212;183;2mNew run\u001b[0m\u001b[38;2;212;183;2m \u001b[0m\u001b[38;2;212;183;2m───────────────────────────────────────────────────\u001b[0m\u001b[38;2;212;183;2m─╮\u001b[0m\n",
       "\u001b[38;2;212;183;2m│\u001b[0m                                                                                                                 \u001b[38;2;212;183;2m│\u001b[0m\n",
       "\u001b[38;2;212;183;2m│\u001b[0m \u001b[1mFind 5 Batman filming locations in the world, calculate the time to transfer via cargo plane to here (we're in \u001b[0m \u001b[38;2;212;183;2m│\u001b[0m\n",
       "\u001b[38;2;212;183;2m│\u001b[0m \u001b[1mGotham, 40.7128° N, 74.0060° W), and return them to me as a pandas dataframe.\u001b[0m                                   \u001b[38;2;212;183;2m│\u001b[0m\n",
       "\u001b[38;2;212;183;2m│\u001b[0m \u001b[1mAlso give me some supercar factories with the same cargo plane transfer time.\u001b[0m                                   \u001b[38;2;212;183;2m│\u001b[0m\n",
       "\u001b[38;2;212;183;2m│\u001b[0m                                                                                                                 \u001b[38;2;212;183;2m│\u001b[0m\n",
       "\u001b[38;2;212;183;2m╰─\u001b[0m\u001b[38;2;212;183;2m LiteLLMModel - groq/llama3-70b-8192 \u001b[0m\u001b[38;2;212;183;2m──────────────────────────────────────────────────────────────────────────\u001b[0m\u001b[38;2;212;183;2m─╯\u001b[0m\n"
      ]
     },
     "metadata": {},
     "output_type": "display_data"
    },
    {
     "data": {
      "text/html": [
       "<pre style=\"white-space:pre;overflow-x:auto;line-height:normal;font-family:Menlo,'DejaVu Sans Mono',consolas,'Courier New',monospace\"><span style=\"color: #d4b702; text-decoration-color: #d4b702\">━━━━━━━━━━━━━━━━━━━━━━━━━━━━━━━━━━━━━━━━━━━━━━━━━━━━━ </span><span style=\"font-weight: bold\">Step </span><span style=\"color: #008080; text-decoration-color: #008080; font-weight: bold\">1</span><span style=\"color: #d4b702; text-decoration-color: #d4b702\"> ━━━━━━━━━━━━━━━━━━━━━━━━━━━━━━━━━━━━━━━━━━━━━━━━━━━━━━</span>\n",
       "</pre>\n"
      ],
      "text/plain": [
       "\u001b[38;2;212;183;2m━━━━━━━━━━━━━━━━━━━━━━━━━━━━━━━━━━━━━━━━━━━━━━━━━━━━━ \u001b[0m\u001b[1mStep \u001b[0m\u001b[1;36m1\u001b[0m\u001b[38;2;212;183;2m ━━━━━━━━━━━━━━━━━━━━━━━━━━━━━━━━━━━━━━━━━━━━━━━━━━━━━━\u001b[0m\n"
      ]
     },
     "metadata": {},
     "output_type": "display_data"
    },
    {
     "data": {
      "text/html": [
       "<pre style=\"white-space:pre;overflow-x:auto;line-height:normal;font-family:Menlo,'DejaVu Sans Mono',consolas,'Courier New',monospace\"> ─ <span style=\"font-weight: bold\">Executing parsed code:</span> ──────────────────────────────────────────────────────────────────────────────────────── \n",
       "  <span style=\"color: #f8f8f2; text-decoration-color: #f8f8f2; background-color: #272822\">batman_filming_locations </span><span style=\"color: #f92672; text-decoration-color: #f92672; background-color: #272822\">=</span><span style=\"color: #f8f8f2; text-decoration-color: #f8f8f2; background-color: #272822\"> web_search(query</span><span style=\"color: #f92672; text-decoration-color: #f92672; background-color: #272822\">=</span><span style=\"color: #e6db74; text-decoration-color: #e6db74; background-color: #272822\">\"Batman filming locations\"</span><span style=\"color: #f8f8f2; text-decoration-color: #f8f8f2; background-color: #272822\">)</span><span style=\"background-color: #272822\">                                        </span>  \n",
       "  <span style=\"color: #f8f8f2; text-decoration-color: #f8f8f2; background-color: #272822\">print(batman_filming_locations)</span><span style=\"background-color: #272822\">                                                                                </span>  \n",
       " ───────────────────────────────────────────────────────────────────────────────────────────────────────────────── \n",
       "</pre>\n"
      ],
      "text/plain": [
       " ─ \u001b[1mExecuting parsed code:\u001b[0m ──────────────────────────────────────────────────────────────────────────────────────── \n",
       "  \u001b[38;2;248;248;242;48;2;39;40;34mbatman_filming_locations\u001b[0m\u001b[38;2;248;248;242;48;2;39;40;34m \u001b[0m\u001b[38;2;249;38;114;48;2;39;40;34m=\u001b[0m\u001b[38;2;248;248;242;48;2;39;40;34m \u001b[0m\u001b[38;2;248;248;242;48;2;39;40;34mweb_search\u001b[0m\u001b[38;2;248;248;242;48;2;39;40;34m(\u001b[0m\u001b[38;2;248;248;242;48;2;39;40;34mquery\u001b[0m\u001b[38;2;249;38;114;48;2;39;40;34m=\u001b[0m\u001b[38;2;230;219;116;48;2;39;40;34m\"\u001b[0m\u001b[38;2;230;219;116;48;2;39;40;34mBatman filming locations\u001b[0m\u001b[38;2;230;219;116;48;2;39;40;34m\"\u001b[0m\u001b[38;2;248;248;242;48;2;39;40;34m)\u001b[0m\u001b[48;2;39;40;34m                                        \u001b[0m  \n",
       "  \u001b[38;2;248;248;242;48;2;39;40;34mprint\u001b[0m\u001b[38;2;248;248;242;48;2;39;40;34m(\u001b[0m\u001b[38;2;248;248;242;48;2;39;40;34mbatman_filming_locations\u001b[0m\u001b[38;2;248;248;242;48;2;39;40;34m)\u001b[0m\u001b[48;2;39;40;34m                                                                                \u001b[0m  \n",
       " ───────────────────────────────────────────────────────────────────────────────────────────────────────────────── \n"
      ]
     },
     "metadata": {},
     "output_type": "display_data"
    },
    {
     "data": {
      "text/html": [
       "<pre style=\"white-space:pre;overflow-x:auto;line-height:normal;font-family:Menlo,'DejaVu Sans Mono',consolas,'Courier New',monospace\"><span style=\"font-weight: bold\">Execution logs:</span>\n",
       "## Search Results\n",
       "0. [The Batman (2022) - Filming &amp; production - IMDb](https://www.imdb.com/title/tt1877830/locations/)\n",
       "\n",
       "Filming locations ; Necropolis Cemetery, Glasgow, Scotland, UK. (Batman and Selina leaving the cemetery) · 87 ; St.\n",
       "George's Hall, Liverpool, England, UK. ( ...\n",
       "\n",
       "1. [The Batman | 2022 - Movie Locations](https://movie-locations.com/movies/b/The-Batman-2022-2.php)\n",
       "\n",
       "Film locations for The Batman (2022) in Liverpool, London, Glasgow and Chicago.\n",
       "\n",
       "2. [Batman (1989) - Filming &amp; production - IMDb](https://www.imdb.com/title/tt0096895/locations/)\n",
       "\n",
       "Filming locations: Knebworth House, Knebworth, Hertfordshire, England, UK (Wayne Manor; exterior) Helpful•21 0 \n",
       "Acton Lane Power Station, Acton Lane, Acton, ...\n",
       "\n",
       "3. [Where was The Batman filmed? ALL the Filming Locations in \n",
       "...](https://www.atlasofwonders.com/2022/04/where-was-the-batman-filmed.html)\n",
       "\n",
       "Guide to the all the filming locations of The Batman - The 2022 movie with Robert Pattison filmed in Chicago and \n",
       "The UK - The City and the Wayne House.\n",
       "\n",
       "4. [12 Batman Movie Locations You Can Visit! - Travel and Leisure \n",
       "Asia](https://www.travelandleisureasia.com/global/destinations/batman-movie-locations-you-can-visit/)\n",
       "Date published: Jan 10, 2023\n",
       "\n",
       "Most of the filming of Batman movies is done in the Warner Bros studios and across the US, including New York and \n",
       "Pittsburgh. You will notice ...\n",
       "\n",
       "5. [Batman Movies and Filming Locations in Los Angeles | LA \n",
       "Today](https://www.traveltodayla.com/post/batman-movies-in-la?srsltid=AfmBOooiUXBOURazDZANv0HFIh1PrDp26T9Q1D1Wa7n70\n",
       "0ijKWGKhqF0)\n",
       "Date published: Apr 20, 2023\n",
       "\n",
       "The legendary Batcave is found in Bronson Canyon, at the Bronson Caves. This is a section of the expansive Griffith\n",
       "Park in Los Angeles that is ...\n",
       "\n",
       "6. [The Batman | Film Locations](https://movie-locations.com/movies/b/The-Batman-2022.php)\n",
       "\n",
       "Film locations for The Batman (2022) in Liverpool, London, Glasgow ... The Batman filming location: James R \n",
       "Thompson Center, West Randolph Street, Chicago.\n",
       "\n",
       "7. [The Filming Locations of The Batman - \n",
       "Reddit](https://www.reddit.com/r/batman/comments/tx71l5/the_filming_locations_of_the_batman/)\n",
       "Date published: Apr 5, 2022\n",
       "\n",
       "The Filming Locations of The Batman: r/batman - Royal Liver Building, Liverpool Royal Liver Building, Liverpool \n",
       "more\n",
       "\n",
       "8. [The Batman (2022) Locations - Latitude and Longitude \n",
       "Finder](https://www.latlong.net/location/the-batman-2022-locations-427)\n",
       "\n",
       "The Batman (2022) was filmed in 2 Temple Pl, 230 S LaSelle St, 91 Wishart St, Anfield Cemetery, Cardington Studios,\n",
       "Central Saint Martins, Chicago (exterior), ...\n",
       "\n",
       "9. [Locations | 1966 Batman Pages](https://www.66batmania.com/guides/locations/)\n",
       "\n",
       "The actual filming of the series was predominately undertaken at 'The Culver City Studios'. Other notable filming \n",
       "locations include; 'The Warner Brothers ...\n",
       "\n",
       "Out: None\n",
       "</pre>\n"
      ],
      "text/plain": [
       "\u001b[1mExecution logs:\u001b[0m\n",
       "## Search Results\n",
       "0. [The Batman (2022) - Filming & production - IMDb](https://www.imdb.com/title/tt1877830/locations/)\n",
       "\n",
       "Filming locations ; Necropolis Cemetery, Glasgow, Scotland, UK. (Batman and Selina leaving the cemetery) · 87 ; St.\n",
       "George's Hall, Liverpool, England, UK. ( ...\n",
       "\n",
       "1. [The Batman | 2022 - Movie Locations](https://movie-locations.com/movies/b/The-Batman-2022-2.php)\n",
       "\n",
       "Film locations for The Batman (2022) in Liverpool, London, Glasgow and Chicago.\n",
       "\n",
       "2. [Batman (1989) - Filming & production - IMDb](https://www.imdb.com/title/tt0096895/locations/)\n",
       "\n",
       "Filming locations: Knebworth House, Knebworth, Hertfordshire, England, UK (Wayne Manor; exterior) Helpful•21 0 \n",
       "Acton Lane Power Station, Acton Lane, Acton, ...\n",
       "\n",
       "3. [Where was The Batman filmed? ALL the Filming Locations in \n",
       "...](https://www.atlasofwonders.com/2022/04/where-was-the-batman-filmed.html)\n",
       "\n",
       "Guide to the all the filming locations of The Batman - The 2022 movie with Robert Pattison filmed in Chicago and \n",
       "The UK - The City and the Wayne House.\n",
       "\n",
       "4. [12 Batman Movie Locations You Can Visit! - Travel and Leisure \n",
       "Asia](https://www.travelandleisureasia.com/global/destinations/batman-movie-locations-you-can-visit/)\n",
       "Date published: Jan 10, 2023\n",
       "\n",
       "Most of the filming of Batman movies is done in the Warner Bros studios and across the US, including New York and \n",
       "Pittsburgh. You will notice ...\n",
       "\n",
       "5. [Batman Movies and Filming Locations in Los Angeles | LA \n",
       "Today](https://www.traveltodayla.com/post/batman-movies-in-la?srsltid=AfmBOooiUXBOURazDZANv0HFIh1PrDp26T9Q1D1Wa7n70\n",
       "0ijKWGKhqF0)\n",
       "Date published: Apr 20, 2023\n",
       "\n",
       "The legendary Batcave is found in Bronson Canyon, at the Bronson Caves. This is a section of the expansive Griffith\n",
       "Park in Los Angeles that is ...\n",
       "\n",
       "6. [The Batman | Film Locations](https://movie-locations.com/movies/b/The-Batman-2022.php)\n",
       "\n",
       "Film locations for The Batman (2022) in Liverpool, London, Glasgow ... The Batman filming location: James R \n",
       "Thompson Center, West Randolph Street, Chicago.\n",
       "\n",
       "7. [The Filming Locations of The Batman - \n",
       "Reddit](https://www.reddit.com/r/batman/comments/tx71l5/the_filming_locations_of_the_batman/)\n",
       "Date published: Apr 5, 2022\n",
       "\n",
       "The Filming Locations of The Batman: r/batman - Royal Liver Building, Liverpool Royal Liver Building, Liverpool \n",
       "more\n",
       "\n",
       "8. [The Batman (2022) Locations - Latitude and Longitude \n",
       "Finder](https://www.latlong.net/location/the-batman-2022-locations-427)\n",
       "\n",
       "The Batman (2022) was filmed in 2 Temple Pl, 230 S LaSelle St, 91 Wishart St, Anfield Cemetery, Cardington Studios,\n",
       "Central Saint Martins, Chicago (exterior), ...\n",
       "\n",
       "9. [Locations | 1966 Batman Pages](https://www.66batmania.com/guides/locations/)\n",
       "\n",
       "The actual filming of the series was predominately undertaken at 'The Culver City Studios'. Other notable filming \n",
       "locations include; 'The Warner Brothers ...\n",
       "\n",
       "Out: None\n"
      ]
     },
     "metadata": {},
     "output_type": "display_data"
    },
    {
     "data": {
      "text/html": [
       "<pre style=\"white-space:pre;overflow-x:auto;line-height:normal;font-family:Menlo,'DejaVu Sans Mono',consolas,'Courier New',monospace\"><span style=\"color: #7f7f7f; text-decoration-color: #7f7f7f\">[Step 1: Duration 3.27 seconds| Input tokens: 2,351 | Output tokens: 500]</span>\n",
       "</pre>\n"
      ],
      "text/plain": [
       "\u001b[2m[Step 1: Duration 3.27 seconds| Input tokens: 2,351 | Output tokens: 500]\u001b[0m\n"
      ]
     },
     "metadata": {},
     "output_type": "display_data"
    },
    {
     "data": {
      "text/html": [
       "<pre style=\"white-space:pre;overflow-x:auto;line-height:normal;font-family:Menlo,'DejaVu Sans Mono',consolas,'Courier New',monospace\"><span style=\"color: #d4b702; text-decoration-color: #d4b702\">━━━━━━━━━━━━━━━━━━━━━━━━━━━━━━━━━━━━━━━━━━━━━━━━━━━━━ </span><span style=\"font-weight: bold\">Step </span><span style=\"color: #008080; text-decoration-color: #008080; font-weight: bold\">2</span><span style=\"color: #d4b702; text-decoration-color: #d4b702\"> ━━━━━━━━━━━━━━━━━━━━━━━━━━━━━━━━━━━━━━━━━━━━━━━━━━━━━━</span>\n",
       "</pre>\n"
      ],
      "text/plain": [
       "\u001b[38;2;212;183;2m━━━━━━━━━━━━━━━━━━━━━━━━━━━━━━━━━━━━━━━━━━━━━━━━━━━━━ \u001b[0m\u001b[1mStep \u001b[0m\u001b[1;36m2\u001b[0m\u001b[38;2;212;183;2m ━━━━━━━━━━━━━━━━━━━━━━━━━━━━━━━━━━━━━━━━━━━━━━━━━━━━━━\u001b[0m\n"
      ]
     },
     "metadata": {},
     "output_type": "display_data"
    },
    {
     "data": {
      "text/html": [
       "<pre style=\"white-space:pre;overflow-x:auto;line-height:normal;font-family:Menlo,'DejaVu Sans Mono',consolas,'Courier New',monospace\"> ─ <span style=\"font-weight: bold\">Executing parsed code:</span> ──────────────────────────────────────────────────────────────────────────────────────── \n",
       "  <span style=\"color: #f92672; text-decoration-color: #f92672; background-color: #272822\">import</span><span style=\"color: #f8f8f2; text-decoration-color: #f8f8f2; background-color: #272822\"> pandas </span><span style=\"color: #66d9ef; text-decoration-color: #66d9ef; background-color: #272822\">as</span><span style=\"color: #f8f8f2; text-decoration-color: #f8f8f2; background-color: #272822\"> pd</span><span style=\"background-color: #272822\">                                                                                            </span>  \n",
       "  <span style=\"background-color: #272822\">                                                                                                               </span>  \n",
       "  <span style=\"color: #f8f8f2; text-decoration-color: #f8f8f2; background-color: #272822\">filming_locations </span><span style=\"color: #f92672; text-decoration-color: #f92672; background-color: #272822\">=</span><span style=\"color: #f8f8f2; text-decoration-color: #f8f8f2; background-color: #272822\"> [</span><span style=\"background-color: #272822\">                                                                                          </span>  \n",
       "  <span style=\"color: #f8f8f2; text-decoration-color: #f8f8f2; background-color: #272822\">    [</span><span style=\"color: #e6db74; text-decoration-color: #e6db74; background-color: #272822\">\"Necropolis Cemetery\"</span><span style=\"color: #f8f8f2; text-decoration-color: #f8f8f2; background-color: #272822\">, </span><span style=\"color: #e6db74; text-decoration-color: #e6db74; background-color: #272822\">\"Glasgow, Scotland, UK\"</span><span style=\"color: #f8f8f2; text-decoration-color: #f8f8f2; background-color: #272822\">],</span><span style=\"background-color: #272822\">                                                          </span>  \n",
       "  <span style=\"color: #f8f8f2; text-decoration-color: #f8f8f2; background-color: #272822\">    [</span><span style=\"color: #e6db74; text-decoration-color: #e6db74; background-color: #272822\">\"St. George's Hall\"</span><span style=\"color: #f8f8f2; text-decoration-color: #f8f8f2; background-color: #272822\">, </span><span style=\"color: #e6db74; text-decoration-color: #e6db74; background-color: #272822\">\"Liverpool, England, UK\"</span><span style=\"color: #f8f8f2; text-decoration-color: #f8f8f2; background-color: #272822\">],</span><span style=\"background-color: #272822\">                                                           </span>  \n",
       "  <span style=\"color: #f8f8f2; text-decoration-color: #f8f8f2; background-color: #272822\">    [</span><span style=\"color: #e6db74; text-decoration-color: #e6db74; background-color: #272822\">\"Knebworth House\"</span><span style=\"color: #f8f8f2; text-decoration-color: #f8f8f2; background-color: #272822\">, </span><span style=\"color: #e6db74; text-decoration-color: #e6db74; background-color: #272822\">\"Knebworth, Hertfordshire, England, UK\"</span><span style=\"color: #f8f8f2; text-decoration-color: #f8f8f2; background-color: #272822\">],</span><span style=\"background-color: #272822\">                                              </span>  \n",
       "  <span style=\"color: #f8f8f2; text-decoration-color: #f8f8f2; background-color: #272822\">    [</span><span style=\"color: #e6db74; text-decoration-color: #e6db74; background-color: #272822\">\"Acton Lane Power Station\"</span><span style=\"color: #f8f8f2; text-decoration-color: #f8f8f2; background-color: #272822\">, </span><span style=\"color: #e6db74; text-decoration-color: #e6db74; background-color: #272822\">\"Acton Lane, Acton, London, UK\"</span><span style=\"color: #f8f8f2; text-decoration-color: #f8f8f2; background-color: #272822\">],</span><span style=\"background-color: #272822\">                                             </span>  \n",
       "  <span style=\"color: #f8f8f2; text-decoration-color: #f8f8f2; background-color: #272822\">    [</span><span style=\"color: #e6db74; text-decoration-color: #e6db74; background-color: #272822\">\"Bronson Caves\"</span><span style=\"color: #f8f8f2; text-decoration-color: #f8f8f2; background-color: #272822\">, </span><span style=\"color: #e6db74; text-decoration-color: #e6db74; background-color: #272822\">\"Griffith Park, Los Angeles, USA\"</span><span style=\"color: #f8f8f2; text-decoration-color: #f8f8f2; background-color: #272822\">]</span><span style=\"background-color: #272822\">                                                       </span>  \n",
       "  <span style=\"color: #f8f8f2; text-decoration-color: #f8f8f2; background-color: #272822\">]</span><span style=\"background-color: #272822\">                                                                                                              </span>  \n",
       "  <span style=\"background-color: #272822\">                                                                                                               </span>  \n",
       "  <span style=\"color: #f8f8f2; text-decoration-color: #f8f8f2; background-color: #272822\">df </span><span style=\"color: #f92672; text-decoration-color: #f92672; background-color: #272822\">=</span><span style=\"color: #f8f8f2; text-decoration-color: #f8f8f2; background-color: #272822\"> pd</span><span style=\"color: #f92672; text-decoration-color: #f92672; background-color: #272822\">.</span><span style=\"color: #f8f8f2; text-decoration-color: #f8f8f2; background-color: #272822\">DataFrame(filming_locations, columns</span><span style=\"color: #f92672; text-decoration-color: #f92672; background-color: #272822\">=</span><span style=\"color: #f8f8f2; text-decoration-color: #f8f8f2; background-color: #272822\">[</span><span style=\"color: #e6db74; text-decoration-color: #e6db74; background-color: #272822\">\"Location\"</span><span style=\"color: #f8f8f2; text-decoration-color: #f8f8f2; background-color: #272822\">, </span><span style=\"color: #e6db74; text-decoration-color: #e6db74; background-color: #272822\">\"Address\"</span><span style=\"color: #f8f8f2; text-decoration-color: #f8f8f2; background-color: #272822\">])</span><span style=\"background-color: #272822\">                                          </span>  \n",
       "  <span style=\"background-color: #272822\">                                                                                                               </span>  \n",
       "  <span style=\"color: #66d9ef; text-decoration-color: #66d9ef; background-color: #272822\">for</span><span style=\"color: #f8f8f2; text-decoration-color: #f8f8f2; background-color: #272822\"> index, row </span><span style=\"color: #f92672; text-decoration-color: #f92672; background-color: #272822\">in</span><span style=\"color: #f8f8f2; text-decoration-color: #f8f8f2; background-color: #272822\"> df</span><span style=\"color: #f92672; text-decoration-color: #f92672; background-color: #272822\">.</span><span style=\"color: #f8f8f2; text-decoration-color: #f8f8f2; background-color: #272822\">iterrows():</span><span style=\"background-color: #272822\">                                                                               </span>  \n",
       "  <span style=\"color: #f8f8f2; text-decoration-color: #f8f8f2; background-color: #272822\">    origin_coords </span><span style=\"color: #f92672; text-decoration-color: #f92672; background-color: #272822\">=</span><span style=\"color: #f8f8f2; text-decoration-color: #f8f8f2; background-color: #272822\"> [</span><span style=\"color: #ae81ff; text-decoration-color: #ae81ff; background-color: #272822\">40.7128</span><span style=\"color: #f8f8f2; text-decoration-color: #f8f8f2; background-color: #272822\">, </span><span style=\"color: #f92672; text-decoration-color: #f92672; background-color: #272822\">-</span><span style=\"color: #ae81ff; text-decoration-color: #ae81ff; background-color: #272822\">74.0060</span><span style=\"color: #f8f8f2; text-decoration-color: #f8f8f2; background-color: #272822\">]  </span><span style=\"color: #75715e; text-decoration-color: #75715e; background-color: #272822\"># Gotham coordinates</span><span style=\"background-color: #272822\">                                                  </span>  \n",
       "  <span style=\"color: #f8f8f2; text-decoration-color: #f8f8f2; background-color: #272822\">    destination_coords </span><span style=\"color: #f92672; text-decoration-color: #f92672; background-color: #272822\">=</span><span style=\"color: #f8f8f2; text-decoration-color: #f8f8f2; background-color: #272822\"> </span><span style=\"color: #66d9ef; text-decoration-color: #66d9ef; background-color: #272822\">None</span><span style=\"background-color: #272822\">                                                                                  </span>  \n",
       "  <span style=\"color: #f8f8f2; text-decoration-color: #f8f8f2; background-color: #272822\">    </span><span style=\"color: #66d9ef; text-decoration-color: #66d9ef; background-color: #272822\">if</span><span style=\"color: #f8f8f2; text-decoration-color: #f8f8f2; background-color: #272822\"> row[</span><span style=\"color: #e6db74; text-decoration-color: #e6db74; background-color: #272822\">\"Address\"</span><span style=\"color: #f8f8f2; text-decoration-color: #f8f8f2; background-color: #272822\">] </span><span style=\"color: #f92672; text-decoration-color: #f92672; background-color: #272822\">==</span><span style=\"color: #f8f8f2; text-decoration-color: #f8f8f2; background-color: #272822\"> </span><span style=\"color: #e6db74; text-decoration-color: #e6db74; background-color: #272822\">\"Glasgow, Scotland, UK\"</span><span style=\"color: #f8f8f2; text-decoration-color: #f8f8f2; background-color: #272822\">:</span><span style=\"background-color: #272822\">                                                              </span>  \n",
       "  <span style=\"color: #f8f8f2; text-decoration-color: #f8f8f2; background-color: #272822\">        destination_coords </span><span style=\"color: #f92672; text-decoration-color: #f92672; background-color: #272822\">=</span><span style=\"color: #f8f8f2; text-decoration-color: #f8f8f2; background-color: #272822\"> [</span><span style=\"color: #ae81ff; text-decoration-color: #ae81ff; background-color: #272822\">55.8592</span><span style=\"color: #f8f8f2; text-decoration-color: #f8f8f2; background-color: #272822\">, </span><span style=\"color: #f92672; text-decoration-color: #f92672; background-color: #272822\">-</span><span style=\"color: #ae81ff; text-decoration-color: #ae81ff; background-color: #272822\">4.2576</span><span style=\"color: #f8f8f2; text-decoration-color: #f8f8f2; background-color: #272822\">]  </span><span style=\"color: #75715e; text-decoration-color: #75715e; background-color: #272822\"># Glasgow coordinates</span><span style=\"background-color: #272822\">                                         </span>  \n",
       "  <span style=\"color: #f8f8f2; text-decoration-color: #f8f8f2; background-color: #272822\">    </span><span style=\"color: #66d9ef; text-decoration-color: #66d9ef; background-color: #272822\">elif</span><span style=\"color: #f8f8f2; text-decoration-color: #f8f8f2; background-color: #272822\"> row[</span><span style=\"color: #e6db74; text-decoration-color: #e6db74; background-color: #272822\">\"Address\"</span><span style=\"color: #f8f8f2; text-decoration-color: #f8f8f2; background-color: #272822\">] </span><span style=\"color: #f92672; text-decoration-color: #f92672; background-color: #272822\">==</span><span style=\"color: #f8f8f2; text-decoration-color: #f8f8f2; background-color: #272822\"> </span><span style=\"color: #e6db74; text-decoration-color: #e6db74; background-color: #272822\">\"Liverpool, England, UK\"</span><span style=\"color: #f8f8f2; text-decoration-color: #f8f8f2; background-color: #272822\">:</span><span style=\"background-color: #272822\">                                                           </span>  \n",
       "  <span style=\"color: #f8f8f2; text-decoration-color: #f8f8f2; background-color: #272822\">        destination_coords </span><span style=\"color: #f92672; text-decoration-color: #f92672; background-color: #272822\">=</span><span style=\"color: #f8f8f2; text-decoration-color: #f8f8f2; background-color: #272822\"> [</span><span style=\"color: #ae81ff; text-decoration-color: #ae81ff; background-color: #272822\">53.4084</span><span style=\"color: #f8f8f2; text-decoration-color: #f8f8f2; background-color: #272822\">, </span><span style=\"color: #f92672; text-decoration-color: #f92672; background-color: #272822\">-</span><span style=\"color: #ae81ff; text-decoration-color: #ae81ff; background-color: #272822\">2.9913</span><span style=\"color: #f8f8f2; text-decoration-color: #f8f8f2; background-color: #272822\">]  </span><span style=\"color: #75715e; text-decoration-color: #75715e; background-color: #272822\"># Liverpool coordinates</span><span style=\"background-color: #272822\">                                       </span>  \n",
       "  <span style=\"color: #f8f8f2; text-decoration-color: #f8f8f2; background-color: #272822\">    </span><span style=\"color: #66d9ef; text-decoration-color: #66d9ef; background-color: #272822\">elif</span><span style=\"color: #f8f8f2; text-decoration-color: #f8f8f2; background-color: #272822\"> row[</span><span style=\"color: #e6db74; text-decoration-color: #e6db74; background-color: #272822\">\"Address\"</span><span style=\"color: #f8f8f2; text-decoration-color: #f8f8f2; background-color: #272822\">] </span><span style=\"color: #f92672; text-decoration-color: #f92672; background-color: #272822\">==</span><span style=\"color: #f8f8f2; text-decoration-color: #f8f8f2; background-color: #272822\"> </span><span style=\"color: #e6db74; text-decoration-color: #e6db74; background-color: #272822\">\"Knebworth, Hertfordshire, England, UK\"</span><span style=\"color: #f8f8f2; text-decoration-color: #f8f8f2; background-color: #272822\">:</span><span style=\"background-color: #272822\">                                            </span>  \n",
       "  <span style=\"color: #f8f8f2; text-decoration-color: #f8f8f2; background-color: #272822\">        destination_coords </span><span style=\"color: #f92672; text-decoration-color: #f92672; background-color: #272822\">=</span><span style=\"color: #f8f8f2; text-decoration-color: #f8f8f2; background-color: #272822\"> [</span><span style=\"color: #ae81ff; text-decoration-color: #ae81ff; background-color: #272822\">51.8697</span><span style=\"color: #f8f8f2; text-decoration-color: #f8f8f2; background-color: #272822\">, </span><span style=\"color: #f92672; text-decoration-color: #f92672; background-color: #272822\">-</span><span style=\"color: #ae81ff; text-decoration-color: #ae81ff; background-color: #272822\">0.2182</span><span style=\"color: #f8f8f2; text-decoration-color: #f8f8f2; background-color: #272822\">]  </span><span style=\"color: #75715e; text-decoration-color: #75715e; background-color: #272822\"># Knebworth coordinates</span><span style=\"background-color: #272822\">                                       </span>  \n",
       "  <span style=\"color: #f8f8f2; text-decoration-color: #f8f8f2; background-color: #272822\">    </span><span style=\"color: #66d9ef; text-decoration-color: #66d9ef; background-color: #272822\">elif</span><span style=\"color: #f8f8f2; text-decoration-color: #f8f8f2; background-color: #272822\"> row[</span><span style=\"color: #e6db74; text-decoration-color: #e6db74; background-color: #272822\">\"Address\"</span><span style=\"color: #f8f8f2; text-decoration-color: #f8f8f2; background-color: #272822\">] </span><span style=\"color: #f92672; text-decoration-color: #f92672; background-color: #272822\">==</span><span style=\"color: #f8f8f2; text-decoration-color: #f8f8f2; background-color: #272822\"> </span><span style=\"color: #e6db74; text-decoration-color: #e6db74; background-color: #272822\">\"Acton Lane, Acton, London, UK\"</span><span style=\"color: #f8f8f2; text-decoration-color: #f8f8f2; background-color: #272822\">:</span><span style=\"background-color: #272822\">                                                    </span>  \n",
       "  <span style=\"color: #f8f8f2; text-decoration-color: #f8f8f2; background-color: #272822\">        destination_coords </span><span style=\"color: #f92672; text-decoration-color: #f92672; background-color: #272822\">=</span><span style=\"color: #f8f8f2; text-decoration-color: #f8f8f2; background-color: #272822\"> [</span><span style=\"color: #ae81ff; text-decoration-color: #ae81ff; background-color: #272822\">51.5074</span><span style=\"color: #f8f8f2; text-decoration-color: #f8f8f2; background-color: #272822\">, </span><span style=\"color: #f92672; text-decoration-color: #f92672; background-color: #272822\">-</span><span style=\"color: #ae81ff; text-decoration-color: #ae81ff; background-color: #272822\">0.2726</span><span style=\"color: #f8f8f2; text-decoration-color: #f8f8f2; background-color: #272822\">]  </span><span style=\"color: #75715e; text-decoration-color: #75715e; background-color: #272822\"># London coordinates</span><span style=\"background-color: #272822\">                                          </span>  \n",
       "  <span style=\"color: #f8f8f2; text-decoration-color: #f8f8f2; background-color: #272822\">    </span><span style=\"color: #66d9ef; text-decoration-color: #66d9ef; background-color: #272822\">elif</span><span style=\"color: #f8f8f2; text-decoration-color: #f8f8f2; background-color: #272822\"> row[</span><span style=\"color: #e6db74; text-decoration-color: #e6db74; background-color: #272822\">\"Address\"</span><span style=\"color: #f8f8f2; text-decoration-color: #f8f8f2; background-color: #272822\">] </span><span style=\"color: #f92672; text-decoration-color: #f92672; background-color: #272822\">==</span><span style=\"color: #f8f8f2; text-decoration-color: #f8f8f2; background-color: #272822\"> </span><span style=\"color: #e6db74; text-decoration-color: #e6db74; background-color: #272822\">\"Griffith Park, Los Angeles, USA\"</span><span style=\"color: #f8f8f2; text-decoration-color: #f8f8f2; background-color: #272822\">:</span><span style=\"background-color: #272822\">                                                  </span>  \n",
       "  <span style=\"color: #f8f8f2; text-decoration-color: #f8f8f2; background-color: #272822\">        destination_coords </span><span style=\"color: #f92672; text-decoration-color: #f92672; background-color: #272822\">=</span><span style=\"color: #f8f8f2; text-decoration-color: #f8f8f2; background-color: #272822\"> [</span><span style=\"color: #ae81ff; text-decoration-color: #ae81ff; background-color: #272822\">34.1184</span><span style=\"color: #f8f8f2; text-decoration-color: #f8f8f2; background-color: #272822\">, </span><span style=\"color: #f92672; text-decoration-color: #f92672; background-color: #272822\">-</span><span style=\"color: #ae81ff; text-decoration-color: #ae81ff; background-color: #272822\">118.2437</span><span style=\"color: #f8f8f2; text-decoration-color: #f8f8f2; background-color: #272822\">]  </span><span style=\"color: #75715e; text-decoration-color: #75715e; background-color: #272822\"># Los Angeles coordinates</span><span style=\"background-color: #272822\">                                   </span>  \n",
       "  <span style=\"color: #f8f8f2; text-decoration-color: #f8f8f2; background-color: #272822\">    travel_time </span><span style=\"color: #f92672; text-decoration-color: #f92672; background-color: #272822\">=</span><span style=\"color: #f8f8f2; text-decoration-color: #f8f8f2; background-color: #272822\"> calculate_cargo_travel_time(origin_coords, destination_coords)</span><span style=\"background-color: #272822\">                               </span>  \n",
       "  <span style=\"color: #f8f8f2; text-decoration-color: #f8f8f2; background-color: #272822\">    df</span><span style=\"color: #f92672; text-decoration-color: #f92672; background-color: #272822\">.</span><span style=\"color: #f8f8f2; text-decoration-color: #f8f8f2; background-color: #272822\">loc[index, </span><span style=\"color: #e6db74; text-decoration-color: #e6db74; background-color: #272822\">\"Travel Time (hours)\"</span><span style=\"color: #f8f8f2; text-decoration-color: #f8f8f2; background-color: #272822\">] </span><span style=\"color: #f92672; text-decoration-color: #f92672; background-color: #272822\">=</span><span style=\"color: #f8f8f2; text-decoration-color: #f8f8f2; background-color: #272822\"> travel_time</span><span style=\"background-color: #272822\">                                                         </span>  \n",
       "  <span style=\"background-color: #272822\">                                                                                                               </span>  \n",
       "  <span style=\"color: #f8f8f2; text-decoration-color: #f8f8f2; background-color: #272822\">print(df)</span><span style=\"background-color: #272822\">                                                                                                      </span>  \n",
       " ───────────────────────────────────────────────────────────────────────────────────────────────────────────────── \n",
       "</pre>\n"
      ],
      "text/plain": [
       " ─ \u001b[1mExecuting parsed code:\u001b[0m ──────────────────────────────────────────────────────────────────────────────────────── \n",
       "  \u001b[38;2;249;38;114;48;2;39;40;34mimport\u001b[0m\u001b[38;2;248;248;242;48;2;39;40;34m \u001b[0m\u001b[38;2;248;248;242;48;2;39;40;34mpandas\u001b[0m\u001b[38;2;248;248;242;48;2;39;40;34m \u001b[0m\u001b[38;2;102;217;239;48;2;39;40;34mas\u001b[0m\u001b[38;2;248;248;242;48;2;39;40;34m \u001b[0m\u001b[38;2;248;248;242;48;2;39;40;34mpd\u001b[0m\u001b[48;2;39;40;34m                                                                                            \u001b[0m  \n",
       "  \u001b[48;2;39;40;34m                                                                                                               \u001b[0m  \n",
       "  \u001b[38;2;248;248;242;48;2;39;40;34mfilming_locations\u001b[0m\u001b[38;2;248;248;242;48;2;39;40;34m \u001b[0m\u001b[38;2;249;38;114;48;2;39;40;34m=\u001b[0m\u001b[38;2;248;248;242;48;2;39;40;34m \u001b[0m\u001b[38;2;248;248;242;48;2;39;40;34m[\u001b[0m\u001b[48;2;39;40;34m                                                                                          \u001b[0m  \n",
       "  \u001b[38;2;248;248;242;48;2;39;40;34m    \u001b[0m\u001b[38;2;248;248;242;48;2;39;40;34m[\u001b[0m\u001b[38;2;230;219;116;48;2;39;40;34m\"\u001b[0m\u001b[38;2;230;219;116;48;2;39;40;34mNecropolis Cemetery\u001b[0m\u001b[38;2;230;219;116;48;2;39;40;34m\"\u001b[0m\u001b[38;2;248;248;242;48;2;39;40;34m,\u001b[0m\u001b[38;2;248;248;242;48;2;39;40;34m \u001b[0m\u001b[38;2;230;219;116;48;2;39;40;34m\"\u001b[0m\u001b[38;2;230;219;116;48;2;39;40;34mGlasgow, Scotland, UK\u001b[0m\u001b[38;2;230;219;116;48;2;39;40;34m\"\u001b[0m\u001b[38;2;248;248;242;48;2;39;40;34m]\u001b[0m\u001b[38;2;248;248;242;48;2;39;40;34m,\u001b[0m\u001b[48;2;39;40;34m                                                          \u001b[0m  \n",
       "  \u001b[38;2;248;248;242;48;2;39;40;34m    \u001b[0m\u001b[38;2;248;248;242;48;2;39;40;34m[\u001b[0m\u001b[38;2;230;219;116;48;2;39;40;34m\"\u001b[0m\u001b[38;2;230;219;116;48;2;39;40;34mSt. George\u001b[0m\u001b[38;2;230;219;116;48;2;39;40;34m'\u001b[0m\u001b[38;2;230;219;116;48;2;39;40;34ms Hall\u001b[0m\u001b[38;2;230;219;116;48;2;39;40;34m\"\u001b[0m\u001b[38;2;248;248;242;48;2;39;40;34m,\u001b[0m\u001b[38;2;248;248;242;48;2;39;40;34m \u001b[0m\u001b[38;2;230;219;116;48;2;39;40;34m\"\u001b[0m\u001b[38;2;230;219;116;48;2;39;40;34mLiverpool, England, UK\u001b[0m\u001b[38;2;230;219;116;48;2;39;40;34m\"\u001b[0m\u001b[38;2;248;248;242;48;2;39;40;34m]\u001b[0m\u001b[38;2;248;248;242;48;2;39;40;34m,\u001b[0m\u001b[48;2;39;40;34m                                                           \u001b[0m  \n",
       "  \u001b[38;2;248;248;242;48;2;39;40;34m    \u001b[0m\u001b[38;2;248;248;242;48;2;39;40;34m[\u001b[0m\u001b[38;2;230;219;116;48;2;39;40;34m\"\u001b[0m\u001b[38;2;230;219;116;48;2;39;40;34mKnebworth House\u001b[0m\u001b[38;2;230;219;116;48;2;39;40;34m\"\u001b[0m\u001b[38;2;248;248;242;48;2;39;40;34m,\u001b[0m\u001b[38;2;248;248;242;48;2;39;40;34m \u001b[0m\u001b[38;2;230;219;116;48;2;39;40;34m\"\u001b[0m\u001b[38;2;230;219;116;48;2;39;40;34mKnebworth, Hertfordshire, England, UK\u001b[0m\u001b[38;2;230;219;116;48;2;39;40;34m\"\u001b[0m\u001b[38;2;248;248;242;48;2;39;40;34m]\u001b[0m\u001b[38;2;248;248;242;48;2;39;40;34m,\u001b[0m\u001b[48;2;39;40;34m                                              \u001b[0m  \n",
       "  \u001b[38;2;248;248;242;48;2;39;40;34m    \u001b[0m\u001b[38;2;248;248;242;48;2;39;40;34m[\u001b[0m\u001b[38;2;230;219;116;48;2;39;40;34m\"\u001b[0m\u001b[38;2;230;219;116;48;2;39;40;34mActon Lane Power Station\u001b[0m\u001b[38;2;230;219;116;48;2;39;40;34m\"\u001b[0m\u001b[38;2;248;248;242;48;2;39;40;34m,\u001b[0m\u001b[38;2;248;248;242;48;2;39;40;34m \u001b[0m\u001b[38;2;230;219;116;48;2;39;40;34m\"\u001b[0m\u001b[38;2;230;219;116;48;2;39;40;34mActon Lane, Acton, London, UK\u001b[0m\u001b[38;2;230;219;116;48;2;39;40;34m\"\u001b[0m\u001b[38;2;248;248;242;48;2;39;40;34m]\u001b[0m\u001b[38;2;248;248;242;48;2;39;40;34m,\u001b[0m\u001b[48;2;39;40;34m                                             \u001b[0m  \n",
       "  \u001b[38;2;248;248;242;48;2;39;40;34m    \u001b[0m\u001b[38;2;248;248;242;48;2;39;40;34m[\u001b[0m\u001b[38;2;230;219;116;48;2;39;40;34m\"\u001b[0m\u001b[38;2;230;219;116;48;2;39;40;34mBronson Caves\u001b[0m\u001b[38;2;230;219;116;48;2;39;40;34m\"\u001b[0m\u001b[38;2;248;248;242;48;2;39;40;34m,\u001b[0m\u001b[38;2;248;248;242;48;2;39;40;34m \u001b[0m\u001b[38;2;230;219;116;48;2;39;40;34m\"\u001b[0m\u001b[38;2;230;219;116;48;2;39;40;34mGriffith Park, Los Angeles, USA\u001b[0m\u001b[38;2;230;219;116;48;2;39;40;34m\"\u001b[0m\u001b[38;2;248;248;242;48;2;39;40;34m]\u001b[0m\u001b[48;2;39;40;34m                                                       \u001b[0m  \n",
       "  \u001b[38;2;248;248;242;48;2;39;40;34m]\u001b[0m\u001b[48;2;39;40;34m                                                                                                              \u001b[0m  \n",
       "  \u001b[48;2;39;40;34m                                                                                                               \u001b[0m  \n",
       "  \u001b[38;2;248;248;242;48;2;39;40;34mdf\u001b[0m\u001b[38;2;248;248;242;48;2;39;40;34m \u001b[0m\u001b[38;2;249;38;114;48;2;39;40;34m=\u001b[0m\u001b[38;2;248;248;242;48;2;39;40;34m \u001b[0m\u001b[38;2;248;248;242;48;2;39;40;34mpd\u001b[0m\u001b[38;2;249;38;114;48;2;39;40;34m.\u001b[0m\u001b[38;2;248;248;242;48;2;39;40;34mDataFrame\u001b[0m\u001b[38;2;248;248;242;48;2;39;40;34m(\u001b[0m\u001b[38;2;248;248;242;48;2;39;40;34mfilming_locations\u001b[0m\u001b[38;2;248;248;242;48;2;39;40;34m,\u001b[0m\u001b[38;2;248;248;242;48;2;39;40;34m \u001b[0m\u001b[38;2;248;248;242;48;2;39;40;34mcolumns\u001b[0m\u001b[38;2;249;38;114;48;2;39;40;34m=\u001b[0m\u001b[38;2;248;248;242;48;2;39;40;34m[\u001b[0m\u001b[38;2;230;219;116;48;2;39;40;34m\"\u001b[0m\u001b[38;2;230;219;116;48;2;39;40;34mLocation\u001b[0m\u001b[38;2;230;219;116;48;2;39;40;34m\"\u001b[0m\u001b[38;2;248;248;242;48;2;39;40;34m,\u001b[0m\u001b[38;2;248;248;242;48;2;39;40;34m \u001b[0m\u001b[38;2;230;219;116;48;2;39;40;34m\"\u001b[0m\u001b[38;2;230;219;116;48;2;39;40;34mAddress\u001b[0m\u001b[38;2;230;219;116;48;2;39;40;34m\"\u001b[0m\u001b[38;2;248;248;242;48;2;39;40;34m]\u001b[0m\u001b[38;2;248;248;242;48;2;39;40;34m)\u001b[0m\u001b[48;2;39;40;34m                                          \u001b[0m  \n",
       "  \u001b[48;2;39;40;34m                                                                                                               \u001b[0m  \n",
       "  \u001b[38;2;102;217;239;48;2;39;40;34mfor\u001b[0m\u001b[38;2;248;248;242;48;2;39;40;34m \u001b[0m\u001b[38;2;248;248;242;48;2;39;40;34mindex\u001b[0m\u001b[38;2;248;248;242;48;2;39;40;34m,\u001b[0m\u001b[38;2;248;248;242;48;2;39;40;34m \u001b[0m\u001b[38;2;248;248;242;48;2;39;40;34mrow\u001b[0m\u001b[38;2;248;248;242;48;2;39;40;34m \u001b[0m\u001b[38;2;249;38;114;48;2;39;40;34min\u001b[0m\u001b[38;2;248;248;242;48;2;39;40;34m \u001b[0m\u001b[38;2;248;248;242;48;2;39;40;34mdf\u001b[0m\u001b[38;2;249;38;114;48;2;39;40;34m.\u001b[0m\u001b[38;2;248;248;242;48;2;39;40;34miterrows\u001b[0m\u001b[38;2;248;248;242;48;2;39;40;34m(\u001b[0m\u001b[38;2;248;248;242;48;2;39;40;34m)\u001b[0m\u001b[38;2;248;248;242;48;2;39;40;34m:\u001b[0m\u001b[48;2;39;40;34m                                                                               \u001b[0m  \n",
       "  \u001b[38;2;248;248;242;48;2;39;40;34m    \u001b[0m\u001b[38;2;248;248;242;48;2;39;40;34morigin_coords\u001b[0m\u001b[38;2;248;248;242;48;2;39;40;34m \u001b[0m\u001b[38;2;249;38;114;48;2;39;40;34m=\u001b[0m\u001b[38;2;248;248;242;48;2;39;40;34m \u001b[0m\u001b[38;2;248;248;242;48;2;39;40;34m[\u001b[0m\u001b[38;2;174;129;255;48;2;39;40;34m40.7128\u001b[0m\u001b[38;2;248;248;242;48;2;39;40;34m,\u001b[0m\u001b[38;2;248;248;242;48;2;39;40;34m \u001b[0m\u001b[38;2;249;38;114;48;2;39;40;34m-\u001b[0m\u001b[38;2;174;129;255;48;2;39;40;34m74.0060\u001b[0m\u001b[38;2;248;248;242;48;2;39;40;34m]\u001b[0m\u001b[38;2;248;248;242;48;2;39;40;34m  \u001b[0m\u001b[38;2;117;113;94;48;2;39;40;34m# Gotham coordinates\u001b[0m\u001b[48;2;39;40;34m                                                  \u001b[0m  \n",
       "  \u001b[38;2;248;248;242;48;2;39;40;34m    \u001b[0m\u001b[38;2;248;248;242;48;2;39;40;34mdestination_coords\u001b[0m\u001b[38;2;248;248;242;48;2;39;40;34m \u001b[0m\u001b[38;2;249;38;114;48;2;39;40;34m=\u001b[0m\u001b[38;2;248;248;242;48;2;39;40;34m \u001b[0m\u001b[38;2;102;217;239;48;2;39;40;34mNone\u001b[0m\u001b[48;2;39;40;34m                                                                                  \u001b[0m  \n",
       "  \u001b[38;2;248;248;242;48;2;39;40;34m    \u001b[0m\u001b[38;2;102;217;239;48;2;39;40;34mif\u001b[0m\u001b[38;2;248;248;242;48;2;39;40;34m \u001b[0m\u001b[38;2;248;248;242;48;2;39;40;34mrow\u001b[0m\u001b[38;2;248;248;242;48;2;39;40;34m[\u001b[0m\u001b[38;2;230;219;116;48;2;39;40;34m\"\u001b[0m\u001b[38;2;230;219;116;48;2;39;40;34mAddress\u001b[0m\u001b[38;2;230;219;116;48;2;39;40;34m\"\u001b[0m\u001b[38;2;248;248;242;48;2;39;40;34m]\u001b[0m\u001b[38;2;248;248;242;48;2;39;40;34m \u001b[0m\u001b[38;2;249;38;114;48;2;39;40;34m==\u001b[0m\u001b[38;2;248;248;242;48;2;39;40;34m \u001b[0m\u001b[38;2;230;219;116;48;2;39;40;34m\"\u001b[0m\u001b[38;2;230;219;116;48;2;39;40;34mGlasgow, Scotland, UK\u001b[0m\u001b[38;2;230;219;116;48;2;39;40;34m\"\u001b[0m\u001b[38;2;248;248;242;48;2;39;40;34m:\u001b[0m\u001b[48;2;39;40;34m                                                              \u001b[0m  \n",
       "  \u001b[38;2;248;248;242;48;2;39;40;34m        \u001b[0m\u001b[38;2;248;248;242;48;2;39;40;34mdestination_coords\u001b[0m\u001b[38;2;248;248;242;48;2;39;40;34m \u001b[0m\u001b[38;2;249;38;114;48;2;39;40;34m=\u001b[0m\u001b[38;2;248;248;242;48;2;39;40;34m \u001b[0m\u001b[38;2;248;248;242;48;2;39;40;34m[\u001b[0m\u001b[38;2;174;129;255;48;2;39;40;34m55.8592\u001b[0m\u001b[38;2;248;248;242;48;2;39;40;34m,\u001b[0m\u001b[38;2;248;248;242;48;2;39;40;34m \u001b[0m\u001b[38;2;249;38;114;48;2;39;40;34m-\u001b[0m\u001b[38;2;174;129;255;48;2;39;40;34m4.2576\u001b[0m\u001b[38;2;248;248;242;48;2;39;40;34m]\u001b[0m\u001b[38;2;248;248;242;48;2;39;40;34m  \u001b[0m\u001b[38;2;117;113;94;48;2;39;40;34m# Glasgow coordinates\u001b[0m\u001b[48;2;39;40;34m                                         \u001b[0m  \n",
       "  \u001b[38;2;248;248;242;48;2;39;40;34m    \u001b[0m\u001b[38;2;102;217;239;48;2;39;40;34melif\u001b[0m\u001b[38;2;248;248;242;48;2;39;40;34m \u001b[0m\u001b[38;2;248;248;242;48;2;39;40;34mrow\u001b[0m\u001b[38;2;248;248;242;48;2;39;40;34m[\u001b[0m\u001b[38;2;230;219;116;48;2;39;40;34m\"\u001b[0m\u001b[38;2;230;219;116;48;2;39;40;34mAddress\u001b[0m\u001b[38;2;230;219;116;48;2;39;40;34m\"\u001b[0m\u001b[38;2;248;248;242;48;2;39;40;34m]\u001b[0m\u001b[38;2;248;248;242;48;2;39;40;34m \u001b[0m\u001b[38;2;249;38;114;48;2;39;40;34m==\u001b[0m\u001b[38;2;248;248;242;48;2;39;40;34m \u001b[0m\u001b[38;2;230;219;116;48;2;39;40;34m\"\u001b[0m\u001b[38;2;230;219;116;48;2;39;40;34mLiverpool, England, UK\u001b[0m\u001b[38;2;230;219;116;48;2;39;40;34m\"\u001b[0m\u001b[38;2;248;248;242;48;2;39;40;34m:\u001b[0m\u001b[48;2;39;40;34m                                                           \u001b[0m  \n",
       "  \u001b[38;2;248;248;242;48;2;39;40;34m        \u001b[0m\u001b[38;2;248;248;242;48;2;39;40;34mdestination_coords\u001b[0m\u001b[38;2;248;248;242;48;2;39;40;34m \u001b[0m\u001b[38;2;249;38;114;48;2;39;40;34m=\u001b[0m\u001b[38;2;248;248;242;48;2;39;40;34m \u001b[0m\u001b[38;2;248;248;242;48;2;39;40;34m[\u001b[0m\u001b[38;2;174;129;255;48;2;39;40;34m53.4084\u001b[0m\u001b[38;2;248;248;242;48;2;39;40;34m,\u001b[0m\u001b[38;2;248;248;242;48;2;39;40;34m \u001b[0m\u001b[38;2;249;38;114;48;2;39;40;34m-\u001b[0m\u001b[38;2;174;129;255;48;2;39;40;34m2.9913\u001b[0m\u001b[38;2;248;248;242;48;2;39;40;34m]\u001b[0m\u001b[38;2;248;248;242;48;2;39;40;34m  \u001b[0m\u001b[38;2;117;113;94;48;2;39;40;34m# Liverpool coordinates\u001b[0m\u001b[48;2;39;40;34m                                       \u001b[0m  \n",
       "  \u001b[38;2;248;248;242;48;2;39;40;34m    \u001b[0m\u001b[38;2;102;217;239;48;2;39;40;34melif\u001b[0m\u001b[38;2;248;248;242;48;2;39;40;34m \u001b[0m\u001b[38;2;248;248;242;48;2;39;40;34mrow\u001b[0m\u001b[38;2;248;248;242;48;2;39;40;34m[\u001b[0m\u001b[38;2;230;219;116;48;2;39;40;34m\"\u001b[0m\u001b[38;2;230;219;116;48;2;39;40;34mAddress\u001b[0m\u001b[38;2;230;219;116;48;2;39;40;34m\"\u001b[0m\u001b[38;2;248;248;242;48;2;39;40;34m]\u001b[0m\u001b[38;2;248;248;242;48;2;39;40;34m \u001b[0m\u001b[38;2;249;38;114;48;2;39;40;34m==\u001b[0m\u001b[38;2;248;248;242;48;2;39;40;34m \u001b[0m\u001b[38;2;230;219;116;48;2;39;40;34m\"\u001b[0m\u001b[38;2;230;219;116;48;2;39;40;34mKnebworth, Hertfordshire, England, UK\u001b[0m\u001b[38;2;230;219;116;48;2;39;40;34m\"\u001b[0m\u001b[38;2;248;248;242;48;2;39;40;34m:\u001b[0m\u001b[48;2;39;40;34m                                            \u001b[0m  \n",
       "  \u001b[38;2;248;248;242;48;2;39;40;34m        \u001b[0m\u001b[38;2;248;248;242;48;2;39;40;34mdestination_coords\u001b[0m\u001b[38;2;248;248;242;48;2;39;40;34m \u001b[0m\u001b[38;2;249;38;114;48;2;39;40;34m=\u001b[0m\u001b[38;2;248;248;242;48;2;39;40;34m \u001b[0m\u001b[38;2;248;248;242;48;2;39;40;34m[\u001b[0m\u001b[38;2;174;129;255;48;2;39;40;34m51.8697\u001b[0m\u001b[38;2;248;248;242;48;2;39;40;34m,\u001b[0m\u001b[38;2;248;248;242;48;2;39;40;34m \u001b[0m\u001b[38;2;249;38;114;48;2;39;40;34m-\u001b[0m\u001b[38;2;174;129;255;48;2;39;40;34m0.2182\u001b[0m\u001b[38;2;248;248;242;48;2;39;40;34m]\u001b[0m\u001b[38;2;248;248;242;48;2;39;40;34m  \u001b[0m\u001b[38;2;117;113;94;48;2;39;40;34m# Knebworth coordinates\u001b[0m\u001b[48;2;39;40;34m                                       \u001b[0m  \n",
       "  \u001b[38;2;248;248;242;48;2;39;40;34m    \u001b[0m\u001b[38;2;102;217;239;48;2;39;40;34melif\u001b[0m\u001b[38;2;248;248;242;48;2;39;40;34m \u001b[0m\u001b[38;2;248;248;242;48;2;39;40;34mrow\u001b[0m\u001b[38;2;248;248;242;48;2;39;40;34m[\u001b[0m\u001b[38;2;230;219;116;48;2;39;40;34m\"\u001b[0m\u001b[38;2;230;219;116;48;2;39;40;34mAddress\u001b[0m\u001b[38;2;230;219;116;48;2;39;40;34m\"\u001b[0m\u001b[38;2;248;248;242;48;2;39;40;34m]\u001b[0m\u001b[38;2;248;248;242;48;2;39;40;34m \u001b[0m\u001b[38;2;249;38;114;48;2;39;40;34m==\u001b[0m\u001b[38;2;248;248;242;48;2;39;40;34m \u001b[0m\u001b[38;2;230;219;116;48;2;39;40;34m\"\u001b[0m\u001b[38;2;230;219;116;48;2;39;40;34mActon Lane, Acton, London, UK\u001b[0m\u001b[38;2;230;219;116;48;2;39;40;34m\"\u001b[0m\u001b[38;2;248;248;242;48;2;39;40;34m:\u001b[0m\u001b[48;2;39;40;34m                                                    \u001b[0m  \n",
       "  \u001b[38;2;248;248;242;48;2;39;40;34m        \u001b[0m\u001b[38;2;248;248;242;48;2;39;40;34mdestination_coords\u001b[0m\u001b[38;2;248;248;242;48;2;39;40;34m \u001b[0m\u001b[38;2;249;38;114;48;2;39;40;34m=\u001b[0m\u001b[38;2;248;248;242;48;2;39;40;34m \u001b[0m\u001b[38;2;248;248;242;48;2;39;40;34m[\u001b[0m\u001b[38;2;174;129;255;48;2;39;40;34m51.5074\u001b[0m\u001b[38;2;248;248;242;48;2;39;40;34m,\u001b[0m\u001b[38;2;248;248;242;48;2;39;40;34m \u001b[0m\u001b[38;2;249;38;114;48;2;39;40;34m-\u001b[0m\u001b[38;2;174;129;255;48;2;39;40;34m0.2726\u001b[0m\u001b[38;2;248;248;242;48;2;39;40;34m]\u001b[0m\u001b[38;2;248;248;242;48;2;39;40;34m  \u001b[0m\u001b[38;2;117;113;94;48;2;39;40;34m# London coordinates\u001b[0m\u001b[48;2;39;40;34m                                          \u001b[0m  \n",
       "  \u001b[38;2;248;248;242;48;2;39;40;34m    \u001b[0m\u001b[38;2;102;217;239;48;2;39;40;34melif\u001b[0m\u001b[38;2;248;248;242;48;2;39;40;34m \u001b[0m\u001b[38;2;248;248;242;48;2;39;40;34mrow\u001b[0m\u001b[38;2;248;248;242;48;2;39;40;34m[\u001b[0m\u001b[38;2;230;219;116;48;2;39;40;34m\"\u001b[0m\u001b[38;2;230;219;116;48;2;39;40;34mAddress\u001b[0m\u001b[38;2;230;219;116;48;2;39;40;34m\"\u001b[0m\u001b[38;2;248;248;242;48;2;39;40;34m]\u001b[0m\u001b[38;2;248;248;242;48;2;39;40;34m \u001b[0m\u001b[38;2;249;38;114;48;2;39;40;34m==\u001b[0m\u001b[38;2;248;248;242;48;2;39;40;34m \u001b[0m\u001b[38;2;230;219;116;48;2;39;40;34m\"\u001b[0m\u001b[38;2;230;219;116;48;2;39;40;34mGriffith Park, Los Angeles, USA\u001b[0m\u001b[38;2;230;219;116;48;2;39;40;34m\"\u001b[0m\u001b[38;2;248;248;242;48;2;39;40;34m:\u001b[0m\u001b[48;2;39;40;34m                                                  \u001b[0m  \n",
       "  \u001b[38;2;248;248;242;48;2;39;40;34m        \u001b[0m\u001b[38;2;248;248;242;48;2;39;40;34mdestination_coords\u001b[0m\u001b[38;2;248;248;242;48;2;39;40;34m \u001b[0m\u001b[38;2;249;38;114;48;2;39;40;34m=\u001b[0m\u001b[38;2;248;248;242;48;2;39;40;34m \u001b[0m\u001b[38;2;248;248;242;48;2;39;40;34m[\u001b[0m\u001b[38;2;174;129;255;48;2;39;40;34m34.1184\u001b[0m\u001b[38;2;248;248;242;48;2;39;40;34m,\u001b[0m\u001b[38;2;248;248;242;48;2;39;40;34m \u001b[0m\u001b[38;2;249;38;114;48;2;39;40;34m-\u001b[0m\u001b[38;2;174;129;255;48;2;39;40;34m118.2437\u001b[0m\u001b[38;2;248;248;242;48;2;39;40;34m]\u001b[0m\u001b[38;2;248;248;242;48;2;39;40;34m  \u001b[0m\u001b[38;2;117;113;94;48;2;39;40;34m# Los Angeles coordinates\u001b[0m\u001b[48;2;39;40;34m                                   \u001b[0m  \n",
       "  \u001b[38;2;248;248;242;48;2;39;40;34m    \u001b[0m\u001b[38;2;248;248;242;48;2;39;40;34mtravel_time\u001b[0m\u001b[38;2;248;248;242;48;2;39;40;34m \u001b[0m\u001b[38;2;249;38;114;48;2;39;40;34m=\u001b[0m\u001b[38;2;248;248;242;48;2;39;40;34m \u001b[0m\u001b[38;2;248;248;242;48;2;39;40;34mcalculate_cargo_travel_time\u001b[0m\u001b[38;2;248;248;242;48;2;39;40;34m(\u001b[0m\u001b[38;2;248;248;242;48;2;39;40;34morigin_coords\u001b[0m\u001b[38;2;248;248;242;48;2;39;40;34m,\u001b[0m\u001b[38;2;248;248;242;48;2;39;40;34m \u001b[0m\u001b[38;2;248;248;242;48;2;39;40;34mdestination_coords\u001b[0m\u001b[38;2;248;248;242;48;2;39;40;34m)\u001b[0m\u001b[48;2;39;40;34m                               \u001b[0m  \n",
       "  \u001b[38;2;248;248;242;48;2;39;40;34m    \u001b[0m\u001b[38;2;248;248;242;48;2;39;40;34mdf\u001b[0m\u001b[38;2;249;38;114;48;2;39;40;34m.\u001b[0m\u001b[38;2;248;248;242;48;2;39;40;34mloc\u001b[0m\u001b[38;2;248;248;242;48;2;39;40;34m[\u001b[0m\u001b[38;2;248;248;242;48;2;39;40;34mindex\u001b[0m\u001b[38;2;248;248;242;48;2;39;40;34m,\u001b[0m\u001b[38;2;248;248;242;48;2;39;40;34m \u001b[0m\u001b[38;2;230;219;116;48;2;39;40;34m\"\u001b[0m\u001b[38;2;230;219;116;48;2;39;40;34mTravel Time (hours)\u001b[0m\u001b[38;2;230;219;116;48;2;39;40;34m\"\u001b[0m\u001b[38;2;248;248;242;48;2;39;40;34m]\u001b[0m\u001b[38;2;248;248;242;48;2;39;40;34m \u001b[0m\u001b[38;2;249;38;114;48;2;39;40;34m=\u001b[0m\u001b[38;2;248;248;242;48;2;39;40;34m \u001b[0m\u001b[38;2;248;248;242;48;2;39;40;34mtravel_time\u001b[0m\u001b[48;2;39;40;34m                                                         \u001b[0m  \n",
       "  \u001b[48;2;39;40;34m                                                                                                               \u001b[0m  \n",
       "  \u001b[38;2;248;248;242;48;2;39;40;34mprint\u001b[0m\u001b[38;2;248;248;242;48;2;39;40;34m(\u001b[0m\u001b[38;2;248;248;242;48;2;39;40;34mdf\u001b[0m\u001b[38;2;248;248;242;48;2;39;40;34m)\u001b[0m\u001b[48;2;39;40;34m                                                                                                      \u001b[0m  \n",
       " ───────────────────────────────────────────────────────────────────────────────────────────────────────────────── \n"
      ]
     },
     "metadata": {},
     "output_type": "display_data"
    },
    {
     "name": "stderr",
     "output_type": "stream",
     "text": [
      "\n",
      "A module that was compiled using NumPy 1.x cannot be run in\n",
      "NumPy 2.2.4 as it may crash. To support both 1.x and 2.x\n",
      "versions of NumPy, modules must be compiled with NumPy 2.0.\n",
      "Some module may need to rebuild instead e.g. with 'pybind11>=2.12'.\n",
      "\n",
      "If you are a user of the module, the easiest solution will be to\n",
      "downgrade to 'numpy<2' or try to upgrade the affected module.\n",
      "We expect that some modules will need time to support NumPy 2.\n",
      "\n",
      "Traceback (most recent call last):  File \"<frozen runpy>\", line 198, in _run_module_as_main\n",
      "  File \"<frozen runpy>\", line 88, in _run_code\n",
      "  File \"C:\\ProgramData\\anaconda3\\Lib\\site-packages\\ipykernel_launcher.py\", line 17, in <module>\n",
      "    app.launch_new_instance()\n",
      "  File \"C:\\ProgramData\\anaconda3\\Lib\\site-packages\\traitlets\\config\\application.py\", line 992, in launch_instance\n",
      "    app.start()\n",
      "  File \"C:\\ProgramData\\anaconda3\\Lib\\site-packages\\ipykernel\\kernelapp.py\", line 711, in start\n",
      "    self.io_loop.start()\n",
      "  File \"C:\\ProgramData\\anaconda3\\Lib\\site-packages\\tornado\\platform\\asyncio.py\", line 195, in start\n",
      "    self.asyncio_loop.run_forever()\n",
      "  File \"C:\\ProgramData\\anaconda3\\Lib\\asyncio\\base_events.py\", line 607, in run_forever\n",
      "    self._run_once()\n",
      "  File \"C:\\ProgramData\\anaconda3\\Lib\\asyncio\\base_events.py\", line 1922, in _run_once\n",
      "    handle._run()\n",
      "  File \"C:\\ProgramData\\anaconda3\\Lib\\asyncio\\events.py\", line 80, in _run\n",
      "    self._context.run(self._callback, *self._args)\n",
      "  File \"C:\\ProgramData\\anaconda3\\Lib\\site-packages\\ipykernel\\kernelbase.py\", line 510, in dispatch_queue\n",
      "    await self.process_one()\n",
      "  File \"C:\\ProgramData\\anaconda3\\Lib\\site-packages\\ipykernel\\kernelbase.py\", line 499, in process_one\n",
      "    await dispatch(*args)\n",
      "  File \"C:\\ProgramData\\anaconda3\\Lib\\site-packages\\ipykernel\\kernelbase.py\", line 406, in dispatch_shell\n",
      "    await result\n",
      "  File \"C:\\ProgramData\\anaconda3\\Lib\\site-packages\\ipykernel\\kernelbase.py\", line 729, in execute_request\n",
      "    reply_content = await reply_content\n",
      "  File \"C:\\ProgramData\\anaconda3\\Lib\\site-packages\\ipykernel\\ipkernel.py\", line 411, in do_execute\n",
      "    res = shell.run_cell(\n",
      "  File \"C:\\ProgramData\\anaconda3\\Lib\\site-packages\\ipykernel\\zmqshell.py\", line 531, in run_cell\n",
      "    return super().run_cell(*args, **kwargs)\n",
      "  File \"C:\\ProgramData\\anaconda3\\Lib\\site-packages\\IPython\\core\\interactiveshell.py\", line 3006, in run_cell\n",
      "    result = self._run_cell(\n",
      "  File \"C:\\ProgramData\\anaconda3\\Lib\\site-packages\\IPython\\core\\interactiveshell.py\", line 3061, in _run_cell\n",
      "    result = runner(coro)\n",
      "  File \"C:\\ProgramData\\anaconda3\\Lib\\site-packages\\IPython\\core\\async_helpers.py\", line 129, in _pseudo_sync_runner\n",
      "    coro.send(None)\n",
      "  File \"C:\\ProgramData\\anaconda3\\Lib\\site-packages\\IPython\\core\\interactiveshell.py\", line 3266, in run_cell_async\n",
      "    has_raised = await self.run_ast_nodes(code_ast.body, cell_name,\n",
      "  File \"C:\\ProgramData\\anaconda3\\Lib\\site-packages\\IPython\\core\\interactiveshell.py\", line 3445, in run_ast_nodes\n",
      "    if await self.run_code(code, result, async_=asy):\n",
      "  File \"C:\\ProgramData\\anaconda3\\Lib\\site-packages\\IPython\\core\\interactiveshell.py\", line 3505, in run_code\n",
      "    exec(code_obj, self.user_global_ns, self.user_ns)\n",
      "  File \"C:\\Users\\user\\AppData\\Local\\Temp\\ipykernel_4608\\2686460976.py\", line 1, in <module>\n",
      "    result = agent.run(task)\n",
      "  File \"C:\\Users\\user\\AppData\\Roaming\\Python\\Python311\\site-packages\\smolagents\\agents.py\", line 323, in run\n",
      "    return deque(self._run(task=self.task, max_steps=max_steps, images=images), maxlen=1)[0]\n",
      "  File \"C:\\Users\\user\\AppData\\Roaming\\Python\\Python311\\site-packages\\smolagents\\agents.py\", line 334, in _run\n",
      "    final_answer = self._execute_step(task, memory_step)\n",
      "  File \"C:\\Users\\user\\AppData\\Roaming\\Python\\Python311\\site-packages\\smolagents\\agents.py\", line 358, in _execute_step\n",
      "    final_answer = self.step(memory_step)\n",
      "  File \"C:\\Users\\user\\AppData\\Roaming\\Python\\Python311\\site-packages\\smolagents\\agents.py\", line 1229, in step\n",
      "    output, execution_logs, is_final_answer = self.python_executor(code_action)\n",
      "  File \"C:\\Users\\user\\AppData\\Roaming\\Python\\Python311\\site-packages\\smolagents\\local_python_executor.py\", line 1450, in __call__\n",
      "    output, is_final_answer = evaluate_python_code(\n",
      "  File \"C:\\Users\\user\\AppData\\Roaming\\Python\\Python311\\site-packages\\smolagents\\local_python_executor.py\", line 1408, in evaluate_python_code\n",
      "    result = evaluate_ast(node, state, static_tools, custom_tools, authorized_imports)\n",
      "  File \"C:\\Users\\user\\AppData\\Roaming\\Python\\Python311\\site-packages\\smolagents\\local_python_executor.py\", line 224, in _check_return\n",
      "    result = func(expression, state, static_tools, custom_tools, authorized_imports=authorized_imports)\n",
      "  File \"C:\\Users\\user\\AppData\\Roaming\\Python\\Python311\\site-packages\\smolagents\\local_python_executor.py\", line 1323, in evaluate_ast\n",
      "    return evaluate_import(expression, state, authorized_imports)\n",
      "  File \"C:\\Users\\user\\AppData\\Roaming\\Python\\Python311\\site-packages\\smolagents\\local_python_executor.py\", line 1085, in evaluate_import\n",
      "    raw_module = import_module(alias.name)\n",
      "  File \"C:\\ProgramData\\anaconda3\\Lib\\importlib\\__init__.py\", line 126, in import_module\n",
      "    return _bootstrap._gcd_import(name[level:], package, level)\n",
      "  File \"C:\\Users\\user\\AppData\\Roaming\\Python\\Python311\\site-packages\\pandas\\__init__.py\", line 62, in <module>\n",
      "    from pandas.core.api import (\n",
      "  File \"C:\\Users\\user\\AppData\\Roaming\\Python\\Python311\\site-packages\\pandas\\core\\api.py\", line 28, in <module>\n",
      "    from pandas.core.arrays import Categorical\n",
      "  File \"C:\\Users\\user\\AppData\\Roaming\\Python\\Python311\\site-packages\\pandas\\core\\arrays\\__init__.py\", line 1, in <module>\n",
      "    from pandas.core.arrays.arrow import ArrowExtensionArray\n",
      "  File \"C:\\Users\\user\\AppData\\Roaming\\Python\\Python311\\site-packages\\pandas\\core\\arrays\\arrow\\__init__.py\", line 5, in <module>\n",
      "    from pandas.core.arrays.arrow.array import ArrowExtensionArray\n",
      "  File \"C:\\Users\\user\\AppData\\Roaming\\Python\\Python311\\site-packages\\pandas\\core\\arrays\\arrow\\array.py\", line 64, in <module>\n",
      "    from pandas.core.arrays.masked import BaseMaskedArray\n",
      "  File \"C:\\Users\\user\\AppData\\Roaming\\Python\\Python311\\site-packages\\pandas\\core\\arrays\\masked.py\", line 60, in <module>\n",
      "    from pandas.core import (\n",
      "  File \"C:\\Users\\user\\AppData\\Roaming\\Python\\Python311\\site-packages\\pandas\\core\\nanops.py\", line 52, in <module>\n",
      "    bn = import_optional_dependency(\"bottleneck\", errors=\"warn\")\n",
      "  File \"C:\\Users\\user\\AppData\\Roaming\\Python\\Python311\\site-packages\\pandas\\compat\\_optional.py\", line 135, in import_optional_dependency\n",
      "    module = importlib.import_module(name)\n",
      "  File \"C:\\ProgramData\\anaconda3\\Lib\\importlib\\__init__.py\", line 126, in import_module\n",
      "    return _bootstrap._gcd_import(name[level:], package, level)\n",
      "  File \"C:\\ProgramData\\anaconda3\\Lib\\site-packages\\bottleneck\\__init__.py\", line 7, in <module>\n",
      "    from .move import (move_argmax, move_argmin, move_max, move_mean, move_median,\n"
     ]
    },
    {
     "ename": "AttributeError",
     "evalue": "_ARRAY_API not found",
     "output_type": "error",
     "traceback": [
      "\u001b[1;31m---------------------------------------------------------------------------\u001b[0m",
      "\u001b[1;31mAttributeError\u001b[0m                            Traceback (most recent call last)",
      "\u001b[1;31mAttributeError\u001b[0m: _ARRAY_API not found"
     ]
    },
    {
     "data": {
      "text/html": [
       "<pre style=\"white-space:pre;overflow-x:auto;line-height:normal;font-family:Menlo,'DejaVu Sans Mono',consolas,'Courier New',monospace\"><span style=\"font-weight: bold\">Execution logs:</span>\n",
       "                   Location                                Address  \\\n",
       "0       Necropolis Cemetery                  Glasgow, Scotland, UK   \n",
       "1         St. George's Hall                 Liverpool, England, UK   \n",
       "2           Knebworth House  Knebworth, Hertfordshire, England, UK   \n",
       "3  Acton Lane Power Station          Acton Lane, Acton, London, UK   \n",
       "4             Bronson Caves        Griffith Park, Los Angeles, USA   \n",
       "\n",
       "   Travel Time (hours)  \n",
       "0                 8.60  \n",
       "1                 8.81  \n",
       "2                 9.14  \n",
       "3                 9.16  \n",
       "4                 6.77  \n",
       "\n",
       "Out: None\n",
       "</pre>\n"
      ],
      "text/plain": [
       "\u001b[1mExecution logs:\u001b[0m\n",
       "                   Location                                Address  \\\n",
       "0       Necropolis Cemetery                  Glasgow, Scotland, UK   \n",
       "1         St. George's Hall                 Liverpool, England, UK   \n",
       "2           Knebworth House  Knebworth, Hertfordshire, England, UK   \n",
       "3  Acton Lane Power Station          Acton Lane, Acton, London, UK   \n",
       "4             Bronson Caves        Griffith Park, Los Angeles, USA   \n",
       "\n",
       "   Travel Time (hours)  \n",
       "0                 8.60  \n",
       "1                 8.81  \n",
       "2                 9.14  \n",
       "3                 9.16  \n",
       "4                 6.77  \n",
       "\n",
       "Out: None\n"
      ]
     },
     "metadata": {},
     "output_type": "display_data"
    },
    {
     "data": {
      "text/html": [
       "<pre style=\"white-space:pre;overflow-x:auto;line-height:normal;font-family:Menlo,'DejaVu Sans Mono',consolas,'Courier New',monospace\"><span style=\"color: #7f7f7f; text-decoration-color: #7f7f7f\">[Step 2: Duration 7.34 seconds| Input tokens: 5,631 | Output tokens: 921]</span>\n",
       "</pre>\n"
      ],
      "text/plain": [
       "\u001b[2m[Step 2: Duration 7.34 seconds| Input tokens: 5,631 | Output tokens: 921]\u001b[0m\n"
      ]
     },
     "metadata": {},
     "output_type": "display_data"
    },
    {
     "data": {
      "text/html": [
       "<pre style=\"white-space:pre;overflow-x:auto;line-height:normal;font-family:Menlo,'DejaVu Sans Mono',consolas,'Courier New',monospace\"><span style=\"color: #d4b702; text-decoration-color: #d4b702\">━━━━━━━━━━━━━━━━━━━━━━━━━━━━━━━━━━━━━━━━━━━━━━━━━━━━━ </span><span style=\"font-weight: bold\">Step </span><span style=\"color: #008080; text-decoration-color: #008080; font-weight: bold\">3</span><span style=\"color: #d4b702; text-decoration-color: #d4b702\"> ━━━━━━━━━━━━━━━━━━━━━━━━━━━━━━━━━━━━━━━━━━━━━━━━━━━━━━</span>\n",
       "</pre>\n"
      ],
      "text/plain": [
       "\u001b[38;2;212;183;2m━━━━━━━━━━━━━━━━━━━━━━━━━━━━━━━━━━━━━━━━━━━━━━━━━━━━━ \u001b[0m\u001b[1mStep \u001b[0m\u001b[1;36m3\u001b[0m\u001b[38;2;212;183;2m ━━━━━━━━━━━━━━━━━━━━━━━━━━━━━━━━━━━━━━━━━━━━━━━━━━━━━━\u001b[0m\n"
      ]
     },
     "metadata": {},
     "output_type": "display_data"
    },
    {
     "name": "stdout",
     "output_type": "stream",
     "text": [
      "\n",
      "\u001b[1;31mGive Feedback / Get Help: https://github.com/BerriAI/litellm/issues/new\u001b[0m\n",
      "LiteLLM.Info: If you need to debug this error, use `litellm._turn_on_debug()'.\n",
      "\n"
     ]
    },
    {
     "data": {
      "text/html": [
       "<pre style=\"white-space:pre;overflow-x:auto;line-height:normal;font-family:Menlo,'DejaVu Sans Mono',consolas,'Courier New',monospace\"><span style=\"color: #800000; text-decoration-color: #800000; font-weight: bold\">Error in generating model output:</span>\n",
       "<span style=\"color: #800000; text-decoration-color: #800000; font-weight: bold\">litellm.RateLimitError: RateLimitError: GroqException - {</span><span style=\"color: #008000; text-decoration-color: #008000\">\"error\"</span><span style=\"color: #800000; text-decoration-color: #800000; font-weight: bold\">:{</span><span style=\"color: #008000; text-decoration-color: #008000\">\"message\"</span><span style=\"color: #800000; text-decoration-color: #800000; font-weight: bold\">:</span><span style=\"color: #008000; text-decoration-color: #008000\">\"Rate limit reached for model </span>\n",
       "<span style=\"color: #008000; text-decoration-color: #008000\">`llama3-70b-8192` in organization `org_01j6kqmzq1f15v1zj3jm5ytx9m` service tier `on_demand` on tokens per minute </span>\n",
       "<span style=\"color: #008000; text-decoration-color: #008000\">(TPM): Limit 6000, Used 1941, Requested 4234. Please try again in 1.746999999s. Need more tokens? Upgrade to Dev </span>\n",
       "<span style=\"color: #008000; text-decoration-color: #008000\">Tier today at https://console.groq.com/settings/billing\"</span><span style=\"color: #800000; text-decoration-color: #800000; font-weight: bold\">,</span><span style=\"color: #008000; text-decoration-color: #008000\">\"type\"</span><span style=\"color: #800000; text-decoration-color: #800000; font-weight: bold\">:</span><span style=\"color: #008000; text-decoration-color: #008000\">\"tokens\"</span><span style=\"color: #800000; text-decoration-color: #800000; font-weight: bold\">,</span><span style=\"color: #008000; text-decoration-color: #008000\">\"code\"</span><span style=\"color: #800000; text-decoration-color: #800000; font-weight: bold\">:</span><span style=\"color: #008000; text-decoration-color: #008000\">\"rate_limit_exceeded\"</span><span style=\"color: #800000; text-decoration-color: #800000; font-weight: bold\">}}</span>\n",
       "\n",
       "</pre>\n"
      ],
      "text/plain": [
       "\u001b[1;31mError in generating model output:\u001b[0m\n",
       "\u001b[1;31mlitellm.RateLimitError: RateLimitError: GroqException - \u001b[0m\u001b[1;31m{\u001b[0m\u001b[32m\"error\"\u001b[0m\u001b[1;31m:\u001b[0m\u001b[1;31m{\u001b[0m\u001b[32m\"message\"\u001b[0m\u001b[1;31m:\u001b[0m\u001b[32m\"Rate limit reached for model \u001b[0m\n",
       "\u001b[32m`llama3-70b-8192` in organization `org_01j6kqmzq1f15v1zj3jm5ytx9m` service tier `on_demand` on tokens per minute \u001b[0m\n",
       "\u001b[32m(\u001b[0m\u001b[32mTPM\u001b[0m\u001b[32m)\u001b[0m\u001b[32m: Limit 6000, Used 1941, Requested 4234. Please try again in 1.746999999s. Need more tokens? Upgrade to Dev \u001b[0m\n",
       "\u001b[32mTier today at https://console.groq.com/settings/billing\"\u001b[0m\u001b[1;31m,\u001b[0m\u001b[32m\"type\"\u001b[0m\u001b[1;31m:\u001b[0m\u001b[32m\"tokens\"\u001b[0m\u001b[1;31m,\u001b[0m\u001b[32m\"code\"\u001b[0m\u001b[1;31m:\u001b[0m\u001b[32m\"rate_limit_exceeded\"\u001b[0m\u001b[1;31m}\u001b[0m\u001b[1;31m}\u001b[0m\n",
       "\n"
      ]
     },
     "metadata": {},
     "output_type": "display_data"
    },
    {
     "data": {
      "text/html": [
       "<pre style=\"white-space:pre;overflow-x:auto;line-height:normal;font-family:Menlo,'DejaVu Sans Mono',consolas,'Courier New',monospace\"><span style=\"color: #7f7f7f; text-decoration-color: #7f7f7f\">[Step 3: Duration 0.72 seconds| Input tokens: 8,911 | Output tokens: 1,342]</span>\n",
       "</pre>\n"
      ],
      "text/plain": [
       "\u001b[2m[Step 3: Duration 0.72 seconds| Input tokens: 8,911 | Output tokens: 1,342]\u001b[0m\n"
      ]
     },
     "metadata": {},
     "output_type": "display_data"
    },
    {
     "ename": "AgentGenerationError",
     "evalue": "Error in generating model output:\nlitellm.RateLimitError: RateLimitError: GroqException - {\"error\":{\"message\":\"Rate limit reached for model `llama3-70b-8192` in organization `org_01j6kqmzq1f15v1zj3jm5ytx9m` service tier `on_demand` on tokens per minute (TPM): Limit 6000, Used 1941, Requested 4234. Please try again in 1.746999999s. Need more tokens? Upgrade to Dev Tier today at https://console.groq.com/settings/billing\",\"type\":\"tokens\",\"code\":\"rate_limit_exceeded\"}}\n",
     "output_type": "error",
     "traceback": [
      "\u001b[1;31m---------------------------------------------------------------------------\u001b[0m",
      "\u001b[1;31mHTTPStatusError\u001b[0m                           Traceback (most recent call last)",
      "File \u001b[1;32m~\\AppData\\Roaming\\Python\\Python311\\site-packages\\litellm\\llms\\openai_like\\chat\\handler.py:372\u001b[0m, in \u001b[0;36mOpenAILikeChatHandler.completion\u001b[1;34m(self, model, messages, api_base, custom_llm_provider, custom_prompt_dict, model_response, print_verbose, encoding, api_key, logging_obj, optional_params, acompletion, litellm_params, logger_fn, headers, timeout, client, custom_endpoint, streaming_decoder, fake_stream)\u001b[0m\n\u001b[0;32m    371\u001b[0m \u001b[38;5;28;01mtry\u001b[39;00m:\n\u001b[1;32m--> 372\u001b[0m     response \u001b[38;5;241m=\u001b[39m client\u001b[38;5;241m.\u001b[39mpost(\n\u001b[0;32m    373\u001b[0m         url\u001b[38;5;241m=\u001b[39mapi_base, headers\u001b[38;5;241m=\u001b[39mheaders, data\u001b[38;5;241m=\u001b[39mjson\u001b[38;5;241m.\u001b[39mdumps(data)\n\u001b[0;32m    374\u001b[0m     )\n\u001b[0;32m    375\u001b[0m     response\u001b[38;5;241m.\u001b[39mraise_for_status()\n",
      "File \u001b[1;32m~\\AppData\\Roaming\\Python\\Python311\\site-packages\\litellm\\llms\\custom_httpx\\http_handler.py:578\u001b[0m, in \u001b[0;36mHTTPHandler.post\u001b[1;34m(self, url, data, json, params, headers, stream, timeout, files, content, logging_obj)\u001b[0m\n\u001b[0;32m    576\u001b[0m     \u001b[38;5;28msetattr\u001b[39m(e, \u001b[38;5;124m\"\u001b[39m\u001b[38;5;124mstatus_code\u001b[39m\u001b[38;5;124m\"\u001b[39m, e\u001b[38;5;241m.\u001b[39mresponse\u001b[38;5;241m.\u001b[39mstatus_code)\n\u001b[1;32m--> 578\u001b[0m     \u001b[38;5;28;01mraise\u001b[39;00m e\n\u001b[0;32m    579\u001b[0m \u001b[38;5;28;01mexcept\u001b[39;00m \u001b[38;5;167;01mException\u001b[39;00m \u001b[38;5;28;01mas\u001b[39;00m e:\n",
      "File \u001b[1;32m~\\AppData\\Roaming\\Python\\Python311\\site-packages\\litellm\\llms\\custom_httpx\\http_handler.py:559\u001b[0m, in \u001b[0;36mHTTPHandler.post\u001b[1;34m(self, url, data, json, params, headers, stream, timeout, files, content, logging_obj)\u001b[0m\n\u001b[0;32m    558\u001b[0m response \u001b[38;5;241m=\u001b[39m \u001b[38;5;28mself\u001b[39m\u001b[38;5;241m.\u001b[39mclient\u001b[38;5;241m.\u001b[39msend(req, stream\u001b[38;5;241m=\u001b[39mstream)\n\u001b[1;32m--> 559\u001b[0m response\u001b[38;5;241m.\u001b[39mraise_for_status()\n\u001b[0;32m    560\u001b[0m \u001b[38;5;28;01mreturn\u001b[39;00m response\n",
      "File \u001b[1;32m~\\AppData\\Roaming\\Python\\Python311\\site-packages\\httpx\\_models.py:763\u001b[0m, in \u001b[0;36mResponse.raise_for_status\u001b[1;34m(self)\u001b[0m\n\u001b[0;32m    762\u001b[0m message \u001b[38;5;241m=\u001b[39m message\u001b[38;5;241m.\u001b[39mformat(\u001b[38;5;28mself\u001b[39m, error_type\u001b[38;5;241m=\u001b[39merror_type)\n\u001b[1;32m--> 763\u001b[0m \u001b[38;5;28;01mraise\u001b[39;00m HTTPStatusError(message, request\u001b[38;5;241m=\u001b[39mrequest, response\u001b[38;5;241m=\u001b[39m\u001b[38;5;28mself\u001b[39m)\n",
      "\u001b[1;31mHTTPStatusError\u001b[0m: Client error '429 Too Many Requests' for url 'https://api.groq.com/openai/v1/chat/completions'\nFor more information check: https://developer.mozilla.org/en-US/docs/Web/HTTP/Status/429",
      "\nDuring handling of the above exception, another exception occurred:\n",
      "\u001b[1;31mOpenAILikeError\u001b[0m                           Traceback (most recent call last)",
      "File \u001b[1;32m~\\AppData\\Roaming\\Python\\Python311\\site-packages\\litellm\\main.py:1601\u001b[0m, in \u001b[0;36mcompletion\u001b[1;34m(model, messages, timeout, temperature, top_p, n, stream, stream_options, stop, max_completion_tokens, max_tokens, modalities, prediction, audio, presence_penalty, frequency_penalty, logit_bias, user, reasoning_effort, response_format, seed, tools, tool_choice, logprobs, top_logprobs, parallel_tool_calls, deployment_id, extra_headers, functions, function_call, base_url, api_version, api_key, model_list, thinking, **kwargs)\u001b[0m\n\u001b[0;32m   1599\u001b[0m             optional_params[k] \u001b[38;5;241m=\u001b[39m v\n\u001b[1;32m-> 1601\u001b[0m     response \u001b[38;5;241m=\u001b[39m groq_chat_completions\u001b[38;5;241m.\u001b[39mcompletion(\n\u001b[0;32m   1602\u001b[0m         model\u001b[38;5;241m=\u001b[39mmodel,\n\u001b[0;32m   1603\u001b[0m         messages\u001b[38;5;241m=\u001b[39mmessages,\n\u001b[0;32m   1604\u001b[0m         headers\u001b[38;5;241m=\u001b[39mheaders,\n\u001b[0;32m   1605\u001b[0m         model_response\u001b[38;5;241m=\u001b[39mmodel_response,\n\u001b[0;32m   1606\u001b[0m         print_verbose\u001b[38;5;241m=\u001b[39mprint_verbose,\n\u001b[0;32m   1607\u001b[0m         api_key\u001b[38;5;241m=\u001b[39mapi_key,\n\u001b[0;32m   1608\u001b[0m         api_base\u001b[38;5;241m=\u001b[39mapi_base,\n\u001b[0;32m   1609\u001b[0m         acompletion\u001b[38;5;241m=\u001b[39macompletion,\n\u001b[0;32m   1610\u001b[0m         logging_obj\u001b[38;5;241m=\u001b[39mlogging,\n\u001b[0;32m   1611\u001b[0m         optional_params\u001b[38;5;241m=\u001b[39moptional_params,\n\u001b[0;32m   1612\u001b[0m         litellm_params\u001b[38;5;241m=\u001b[39mlitellm_params,\n\u001b[0;32m   1613\u001b[0m         logger_fn\u001b[38;5;241m=\u001b[39mlogger_fn,\n\u001b[0;32m   1614\u001b[0m         timeout\u001b[38;5;241m=\u001b[39mtimeout,  \u001b[38;5;66;03m# type: ignore\u001b[39;00m\n\u001b[0;32m   1615\u001b[0m         custom_prompt_dict\u001b[38;5;241m=\u001b[39mcustom_prompt_dict,\n\u001b[0;32m   1616\u001b[0m         client\u001b[38;5;241m=\u001b[39mclient,  \u001b[38;5;66;03m# pass AsyncOpenAI, OpenAI client\u001b[39;00m\n\u001b[0;32m   1617\u001b[0m         custom_llm_provider\u001b[38;5;241m=\u001b[39mcustom_llm_provider,\n\u001b[0;32m   1618\u001b[0m         encoding\u001b[38;5;241m=\u001b[39mencoding,\n\u001b[0;32m   1619\u001b[0m     )\n\u001b[0;32m   1620\u001b[0m \u001b[38;5;28;01melif\u001b[39;00m custom_llm_provider \u001b[38;5;241m==\u001b[39m \u001b[38;5;124m\"\u001b[39m\u001b[38;5;124maiohttp_openai\u001b[39m\u001b[38;5;124m\"\u001b[39m:\n\u001b[0;32m   1621\u001b[0m     \u001b[38;5;66;03m# NEW aiohttp provider for 10-100x higher RPS\u001b[39;00m\n",
      "File \u001b[1;32m~\\AppData\\Roaming\\Python\\Python311\\site-packages\\litellm\\llms\\groq\\chat\\handler.py:55\u001b[0m, in \u001b[0;36mGroqChatCompletion.completion\u001b[1;34m(self, model, messages, api_base, custom_llm_provider, custom_prompt_dict, model_response, print_verbose, encoding, api_key, logging_obj, optional_params, acompletion, litellm_params, logger_fn, headers, timeout, client, custom_endpoint, streaming_decoder, fake_stream)\u001b[0m\n\u001b[0;32m     53\u001b[0m     fake_stream \u001b[38;5;241m=\u001b[39m \u001b[38;5;28;01mFalse\u001b[39;00m\n\u001b[1;32m---> 55\u001b[0m \u001b[38;5;28;01mreturn\u001b[39;00m \u001b[38;5;28msuper\u001b[39m()\u001b[38;5;241m.\u001b[39mcompletion(\n\u001b[0;32m     56\u001b[0m     model\u001b[38;5;241m=\u001b[39mmodel,\n\u001b[0;32m     57\u001b[0m     messages\u001b[38;5;241m=\u001b[39mmessages,\n\u001b[0;32m     58\u001b[0m     api_base\u001b[38;5;241m=\u001b[39mapi_base,\n\u001b[0;32m     59\u001b[0m     custom_llm_provider\u001b[38;5;241m=\u001b[39mcustom_llm_provider,\n\u001b[0;32m     60\u001b[0m     custom_prompt_dict\u001b[38;5;241m=\u001b[39mcustom_prompt_dict,\n\u001b[0;32m     61\u001b[0m     model_response\u001b[38;5;241m=\u001b[39mmodel_response,\n\u001b[0;32m     62\u001b[0m     print_verbose\u001b[38;5;241m=\u001b[39mprint_verbose,\n\u001b[0;32m     63\u001b[0m     encoding\u001b[38;5;241m=\u001b[39mencoding,\n\u001b[0;32m     64\u001b[0m     api_key\u001b[38;5;241m=\u001b[39mapi_key,\n\u001b[0;32m     65\u001b[0m     logging_obj\u001b[38;5;241m=\u001b[39mlogging_obj,\n\u001b[0;32m     66\u001b[0m     optional_params\u001b[38;5;241m=\u001b[39moptional_params,\n\u001b[0;32m     67\u001b[0m     acompletion\u001b[38;5;241m=\u001b[39macompletion,\n\u001b[0;32m     68\u001b[0m     litellm_params\u001b[38;5;241m=\u001b[39mlitellm_params,\n\u001b[0;32m     69\u001b[0m     logger_fn\u001b[38;5;241m=\u001b[39mlogger_fn,\n\u001b[0;32m     70\u001b[0m     headers\u001b[38;5;241m=\u001b[39mheaders,\n\u001b[0;32m     71\u001b[0m     timeout\u001b[38;5;241m=\u001b[39mtimeout,\n\u001b[0;32m     72\u001b[0m     client\u001b[38;5;241m=\u001b[39mclient,\n\u001b[0;32m     73\u001b[0m     custom_endpoint\u001b[38;5;241m=\u001b[39mcustom_endpoint,\n\u001b[0;32m     74\u001b[0m     streaming_decoder\u001b[38;5;241m=\u001b[39mstreaming_decoder,\n\u001b[0;32m     75\u001b[0m     fake_stream\u001b[38;5;241m=\u001b[39mfake_stream,\n\u001b[0;32m     76\u001b[0m )\n",
      "File \u001b[1;32m~\\AppData\\Roaming\\Python\\Python311\\site-packages\\litellm\\llms\\openai_like\\chat\\handler.py:378\u001b[0m, in \u001b[0;36mOpenAILikeChatHandler.completion\u001b[1;34m(self, model, messages, api_base, custom_llm_provider, custom_prompt_dict, model_response, print_verbose, encoding, api_key, logging_obj, optional_params, acompletion, litellm_params, logger_fn, headers, timeout, client, custom_endpoint, streaming_decoder, fake_stream)\u001b[0m\n\u001b[0;32m    377\u001b[0m \u001b[38;5;28;01mexcept\u001b[39;00m httpx\u001b[38;5;241m.\u001b[39mHTTPStatusError \u001b[38;5;28;01mas\u001b[39;00m e:\n\u001b[1;32m--> 378\u001b[0m     \u001b[38;5;28;01mraise\u001b[39;00m OpenAILikeError(\n\u001b[0;32m    379\u001b[0m         status_code\u001b[38;5;241m=\u001b[39me\u001b[38;5;241m.\u001b[39mresponse\u001b[38;5;241m.\u001b[39mstatus_code,\n\u001b[0;32m    380\u001b[0m         message\u001b[38;5;241m=\u001b[39me\u001b[38;5;241m.\u001b[39mresponse\u001b[38;5;241m.\u001b[39mtext,\n\u001b[0;32m    381\u001b[0m     )\n\u001b[0;32m    382\u001b[0m \u001b[38;5;28;01mexcept\u001b[39;00m httpx\u001b[38;5;241m.\u001b[39mTimeoutException:\n",
      "\u001b[1;31mOpenAILikeError\u001b[0m: {\"error\":{\"message\":\"Rate limit reached for model `llama3-70b-8192` in organization `org_01j6kqmzq1f15v1zj3jm5ytx9m` service tier `on_demand` on tokens per minute (TPM): Limit 6000, Used 1941, Requested 4234. Please try again in 1.746999999s. Need more tokens? Upgrade to Dev Tier today at https://console.groq.com/settings/billing\",\"type\":\"tokens\",\"code\":\"rate_limit_exceeded\"}}\n",
      "\nDuring handling of the above exception, another exception occurred:\n",
      "\u001b[1;31mRateLimitError\u001b[0m                            Traceback (most recent call last)",
      "File \u001b[1;32m~\\AppData\\Roaming\\Python\\Python311\\site-packages\\smolagents\\agents.py:1186\u001b[0m, in \u001b[0;36mCodeAgent.step\u001b[1;34m(self, memory_step)\u001b[0m\n\u001b[0;32m   1185\u001b[0m additional_args \u001b[38;5;241m=\u001b[39m {\u001b[38;5;124m\"\u001b[39m\u001b[38;5;124mgrammar\u001b[39m\u001b[38;5;124m\"\u001b[39m: \u001b[38;5;28mself\u001b[39m\u001b[38;5;241m.\u001b[39mgrammar} \u001b[38;5;28;01mif\u001b[39;00m \u001b[38;5;28mself\u001b[39m\u001b[38;5;241m.\u001b[39mgrammar \u001b[38;5;129;01mis\u001b[39;00m \u001b[38;5;129;01mnot\u001b[39;00m \u001b[38;5;28;01mNone\u001b[39;00m \u001b[38;5;28;01melse\u001b[39;00m {}\n\u001b[1;32m-> 1186\u001b[0m chat_message: ChatMessage \u001b[38;5;241m=\u001b[39m \u001b[38;5;28mself\u001b[39m\u001b[38;5;241m.\u001b[39mmodel(\n\u001b[0;32m   1187\u001b[0m     \u001b[38;5;28mself\u001b[39m\u001b[38;5;241m.\u001b[39minput_messages,\n\u001b[0;32m   1188\u001b[0m     stop_sequences\u001b[38;5;241m=\u001b[39m[\u001b[38;5;124m\"\u001b[39m\u001b[38;5;124m<end_code>\u001b[39m\u001b[38;5;124m\"\u001b[39m, \u001b[38;5;124m\"\u001b[39m\u001b[38;5;124mObservation:\u001b[39m\u001b[38;5;124m\"\u001b[39m, \u001b[38;5;124m\"\u001b[39m\u001b[38;5;124mCalling tools:\u001b[39m\u001b[38;5;124m\"\u001b[39m],\n\u001b[0;32m   1189\u001b[0m     \u001b[38;5;241m*\u001b[39m\u001b[38;5;241m*\u001b[39madditional_args,\n\u001b[0;32m   1190\u001b[0m )\n\u001b[0;32m   1191\u001b[0m memory_step\u001b[38;5;241m.\u001b[39mmodel_output_message \u001b[38;5;241m=\u001b[39m chat_message\n",
      "File \u001b[1;32m~\\AppData\\Roaming\\Python\\Python311\\site-packages\\smolagents\\models.py:904\u001b[0m, in \u001b[0;36mLiteLLMModel.__call__\u001b[1;34m(self, messages, stop_sequences, grammar, tools_to_call_from, **kwargs)\u001b[0m\n\u001b[0;32m    891\u001b[0m completion_kwargs \u001b[38;5;241m=\u001b[39m \u001b[38;5;28mself\u001b[39m\u001b[38;5;241m.\u001b[39m_prepare_completion_kwargs(\n\u001b[0;32m    892\u001b[0m     messages\u001b[38;5;241m=\u001b[39mmessages,\n\u001b[0;32m    893\u001b[0m     stop_sequences\u001b[38;5;241m=\u001b[39mstop_sequences,\n\u001b[1;32m   (...)\u001b[0m\n\u001b[0;32m    901\u001b[0m     \u001b[38;5;241m*\u001b[39m\u001b[38;5;241m*\u001b[39mkwargs,\n\u001b[0;32m    902\u001b[0m )\n\u001b[1;32m--> 904\u001b[0m response \u001b[38;5;241m=\u001b[39m litellm\u001b[38;5;241m.\u001b[39mcompletion(\u001b[38;5;241m*\u001b[39m\u001b[38;5;241m*\u001b[39mcompletion_kwargs)\n\u001b[0;32m    906\u001b[0m \u001b[38;5;28mself\u001b[39m\u001b[38;5;241m.\u001b[39mlast_input_token_count \u001b[38;5;241m=\u001b[39m response\u001b[38;5;241m.\u001b[39musage\u001b[38;5;241m.\u001b[39mprompt_tokens\n",
      "File \u001b[1;32m~\\AppData\\Roaming\\Python\\Python311\\site-packages\\litellm\\utils.py:1235\u001b[0m, in \u001b[0;36mclient.<locals>.wrapper\u001b[1;34m(*args, **kwargs)\u001b[0m\n\u001b[0;32m   1232\u001b[0m     logging_obj\u001b[38;5;241m.\u001b[39mfailure_handler(\n\u001b[0;32m   1233\u001b[0m         e, traceback_exception, start_time, end_time\n\u001b[0;32m   1234\u001b[0m     )  \u001b[38;5;66;03m# DO NOT MAKE THREADED - router retry fallback relies on this!\u001b[39;00m\n\u001b[1;32m-> 1235\u001b[0m \u001b[38;5;28;01mraise\u001b[39;00m e\n",
      "File \u001b[1;32m~\\AppData\\Roaming\\Python\\Python311\\site-packages\\litellm\\utils.py:1113\u001b[0m, in \u001b[0;36mclient.<locals>.wrapper\u001b[1;34m(*args, **kwargs)\u001b[0m\n\u001b[0;32m   1112\u001b[0m \u001b[38;5;66;03m# MODEL CALL\u001b[39;00m\n\u001b[1;32m-> 1113\u001b[0m result \u001b[38;5;241m=\u001b[39m original_function(\u001b[38;5;241m*\u001b[39margs, \u001b[38;5;241m*\u001b[39m\u001b[38;5;241m*\u001b[39mkwargs)\n\u001b[0;32m   1114\u001b[0m end_time \u001b[38;5;241m=\u001b[39m datetime\u001b[38;5;241m.\u001b[39mdatetime\u001b[38;5;241m.\u001b[39mnow()\n",
      "File \u001b[1;32m~\\AppData\\Roaming\\Python\\Python311\\site-packages\\litellm\\main.py:3148\u001b[0m, in \u001b[0;36mcompletion\u001b[1;34m(model, messages, timeout, temperature, top_p, n, stream, stream_options, stop, max_completion_tokens, max_tokens, modalities, prediction, audio, presence_penalty, frequency_penalty, logit_bias, user, reasoning_effort, response_format, seed, tools, tool_choice, logprobs, top_logprobs, parallel_tool_calls, deployment_id, extra_headers, functions, function_call, base_url, api_version, api_key, model_list, thinking, **kwargs)\u001b[0m\n\u001b[0;32m   3146\u001b[0m \u001b[38;5;28;01mexcept\u001b[39;00m \u001b[38;5;167;01mException\u001b[39;00m \u001b[38;5;28;01mas\u001b[39;00m e:\n\u001b[0;32m   3147\u001b[0m     \u001b[38;5;66;03m## Map to OpenAI Exception\u001b[39;00m\n\u001b[1;32m-> 3148\u001b[0m     \u001b[38;5;28;01mraise\u001b[39;00m exception_type(\n\u001b[0;32m   3149\u001b[0m         model\u001b[38;5;241m=\u001b[39mmodel,\n\u001b[0;32m   3150\u001b[0m         custom_llm_provider\u001b[38;5;241m=\u001b[39mcustom_llm_provider,\n\u001b[0;32m   3151\u001b[0m         original_exception\u001b[38;5;241m=\u001b[39me,\n\u001b[0;32m   3152\u001b[0m         completion_kwargs\u001b[38;5;241m=\u001b[39margs,\n\u001b[0;32m   3153\u001b[0m         extra_kwargs\u001b[38;5;241m=\u001b[39mkwargs,\n\u001b[0;32m   3154\u001b[0m     )\n",
      "File \u001b[1;32m~\\AppData\\Roaming\\Python\\Python311\\site-packages\\litellm\\litellm_core_utils\\exception_mapping_utils.py:2214\u001b[0m, in \u001b[0;36mexception_type\u001b[1;34m(model, original_exception, custom_llm_provider, completion_kwargs, extra_kwargs)\u001b[0m\n\u001b[0;32m   2213\u001b[0m     \u001b[38;5;28msetattr\u001b[39m(e, \u001b[38;5;124m\"\u001b[39m\u001b[38;5;124mlitellm_response_headers\u001b[39m\u001b[38;5;124m\"\u001b[39m, litellm_response_headers)\n\u001b[1;32m-> 2214\u001b[0m     \u001b[38;5;28;01mraise\u001b[39;00m e\n\u001b[0;32m   2215\u001b[0m \u001b[38;5;28;01melse\u001b[39;00m:\n",
      "File \u001b[1;32m~\\AppData\\Roaming\\Python\\Python311\\site-packages\\litellm\\litellm_core_utils\\exception_mapping_utils.py:429\u001b[0m, in \u001b[0;36mexception_type\u001b[1;34m(model, original_exception, custom_llm_provider, completion_kwargs, extra_kwargs)\u001b[0m\n\u001b[0;32m    428\u001b[0m     exception_mapping_worked \u001b[38;5;241m=\u001b[39m \u001b[38;5;28;01mTrue\u001b[39;00m\n\u001b[1;32m--> 429\u001b[0m     \u001b[38;5;28;01mraise\u001b[39;00m RateLimitError(\n\u001b[0;32m    430\u001b[0m         message\u001b[38;5;241m=\u001b[39m\u001b[38;5;124mf\u001b[39m\u001b[38;5;124m\"\u001b[39m\u001b[38;5;124mRateLimitError: \u001b[39m\u001b[38;5;132;01m{\u001b[39;00mexception_provider\u001b[38;5;132;01m}\u001b[39;00m\u001b[38;5;124m - \u001b[39m\u001b[38;5;132;01m{\u001b[39;00mmessage\u001b[38;5;132;01m}\u001b[39;00m\u001b[38;5;124m\"\u001b[39m,\n\u001b[0;32m    431\u001b[0m         model\u001b[38;5;241m=\u001b[39mmodel,\n\u001b[0;32m    432\u001b[0m         llm_provider\u001b[38;5;241m=\u001b[39mcustom_llm_provider,\n\u001b[0;32m    433\u001b[0m         response\u001b[38;5;241m=\u001b[39m\u001b[38;5;28mgetattr\u001b[39m(original_exception, \u001b[38;5;124m\"\u001b[39m\u001b[38;5;124mresponse\u001b[39m\u001b[38;5;124m\"\u001b[39m, \u001b[38;5;28;01mNone\u001b[39;00m),\n\u001b[0;32m    434\u001b[0m         litellm_debug_info\u001b[38;5;241m=\u001b[39mextra_information,\n\u001b[0;32m    435\u001b[0m     )\n\u001b[0;32m    436\u001b[0m \u001b[38;5;28;01melif\u001b[39;00m original_exception\u001b[38;5;241m.\u001b[39mstatus_code \u001b[38;5;241m==\u001b[39m \u001b[38;5;241m503\u001b[39m:\n",
      "\u001b[1;31mRateLimitError\u001b[0m: litellm.RateLimitError: RateLimitError: GroqException - {\"error\":{\"message\":\"Rate limit reached for model `llama3-70b-8192` in organization `org_01j6kqmzq1f15v1zj3jm5ytx9m` service tier `on_demand` on tokens per minute (TPM): Limit 6000, Used 1941, Requested 4234. Please try again in 1.746999999s. Need more tokens? Upgrade to Dev Tier today at https://console.groq.com/settings/billing\",\"type\":\"tokens\",\"code\":\"rate_limit_exceeded\"}}\n",
      "\nThe above exception was the direct cause of the following exception:\n",
      "\u001b[1;31mAgentGenerationError\u001b[0m                      Traceback (most recent call last)",
      "Cell \u001b[1;32mIn[26], line 1\u001b[0m\n\u001b[1;32m----> 1\u001b[0m result \u001b[38;5;241m=\u001b[39m agent\u001b[38;5;241m.\u001b[39mrun(task)\n",
      "File \u001b[1;32m~\\AppData\\Roaming\\Python\\Python311\\site-packages\\smolagents\\agents.py:323\u001b[0m, in \u001b[0;36mMultiStepAgent.run\u001b[1;34m(self, task, stream, reset, images, additional_args, max_steps)\u001b[0m\n\u001b[0;32m    321\u001b[0m     \u001b[38;5;28;01mreturn\u001b[39;00m \u001b[38;5;28mself\u001b[39m\u001b[38;5;241m.\u001b[39m_run(task\u001b[38;5;241m=\u001b[39m\u001b[38;5;28mself\u001b[39m\u001b[38;5;241m.\u001b[39mtask, max_steps\u001b[38;5;241m=\u001b[39mmax_steps, images\u001b[38;5;241m=\u001b[39mimages)\n\u001b[0;32m    322\u001b[0m \u001b[38;5;66;03m# Outputs are returned only at the end. We only look at the last step.\u001b[39;00m\n\u001b[1;32m--> 323\u001b[0m \u001b[38;5;28;01mreturn\u001b[39;00m deque(\u001b[38;5;28mself\u001b[39m\u001b[38;5;241m.\u001b[39m_run(task\u001b[38;5;241m=\u001b[39m\u001b[38;5;28mself\u001b[39m\u001b[38;5;241m.\u001b[39mtask, max_steps\u001b[38;5;241m=\u001b[39mmax_steps, images\u001b[38;5;241m=\u001b[39mimages), maxlen\u001b[38;5;241m=\u001b[39m\u001b[38;5;241m1\u001b[39m)[\u001b[38;5;241m0\u001b[39m]\n",
      "File \u001b[1;32m~\\AppData\\Roaming\\Python\\Python311\\site-packages\\smolagents\\agents.py:337\u001b[0m, in \u001b[0;36mMultiStepAgent._run\u001b[1;34m(self, task, max_steps, images)\u001b[0m\n\u001b[0;32m    334\u001b[0m     final_answer \u001b[38;5;241m=\u001b[39m \u001b[38;5;28mself\u001b[39m\u001b[38;5;241m.\u001b[39m_execute_step(task, memory_step)\n\u001b[0;32m    335\u001b[0m \u001b[38;5;28;01mexcept\u001b[39;00m AgentGenerationError \u001b[38;5;28;01mas\u001b[39;00m e:\n\u001b[0;32m    336\u001b[0m     \u001b[38;5;66;03m# Agent generation errors are not caused by a Model error but an implementation error: so we should raise them and exit.\u001b[39;00m\n\u001b[1;32m--> 337\u001b[0m     \u001b[38;5;28;01mraise\u001b[39;00m e\n\u001b[0;32m    338\u001b[0m \u001b[38;5;28;01mexcept\u001b[39;00m AgentError \u001b[38;5;28;01mas\u001b[39;00m e:\n\u001b[0;32m    339\u001b[0m     \u001b[38;5;66;03m# Other AgentError types are caused by the Model, so we should log them and iterate.\u001b[39;00m\n\u001b[0;32m    340\u001b[0m     memory_step\u001b[38;5;241m.\u001b[39merror \u001b[38;5;241m=\u001b[39m e\n",
      "File \u001b[1;32m~\\AppData\\Roaming\\Python\\Python311\\site-packages\\smolagents\\agents.py:334\u001b[0m, in \u001b[0;36mMultiStepAgent._run\u001b[1;34m(self, task, max_steps, images)\u001b[0m\n\u001b[0;32m    332\u001b[0m memory_step \u001b[38;5;241m=\u001b[39m \u001b[38;5;28mself\u001b[39m\u001b[38;5;241m.\u001b[39m_create_memory_step(step_start_time, images)\n\u001b[0;32m    333\u001b[0m \u001b[38;5;28;01mtry\u001b[39;00m:\n\u001b[1;32m--> 334\u001b[0m     final_answer \u001b[38;5;241m=\u001b[39m \u001b[38;5;28mself\u001b[39m\u001b[38;5;241m.\u001b[39m_execute_step(task, memory_step)\n\u001b[0;32m    335\u001b[0m \u001b[38;5;28;01mexcept\u001b[39;00m AgentGenerationError \u001b[38;5;28;01mas\u001b[39;00m e:\n\u001b[0;32m    336\u001b[0m     \u001b[38;5;66;03m# Agent generation errors are not caused by a Model error but an implementation error: so we should raise them and exit.\u001b[39;00m\n\u001b[0;32m    337\u001b[0m     \u001b[38;5;28;01mraise\u001b[39;00m e\n",
      "File \u001b[1;32m~\\AppData\\Roaming\\Python\\Python311\\site-packages\\smolagents\\agents.py:358\u001b[0m, in \u001b[0;36mMultiStepAgent._execute_step\u001b[1;34m(self, task, memory_step)\u001b[0m\n\u001b[0;32m    356\u001b[0m     \u001b[38;5;28mself\u001b[39m\u001b[38;5;241m.\u001b[39mplanning_step(task, is_first_step\u001b[38;5;241m=\u001b[39m(\u001b[38;5;28mself\u001b[39m\u001b[38;5;241m.\u001b[39mstep_number \u001b[38;5;241m==\u001b[39m \u001b[38;5;241m1\u001b[39m), step\u001b[38;5;241m=\u001b[39m\u001b[38;5;28mself\u001b[39m\u001b[38;5;241m.\u001b[39mstep_number)\n\u001b[0;32m    357\u001b[0m \u001b[38;5;28mself\u001b[39m\u001b[38;5;241m.\u001b[39mlogger\u001b[38;5;241m.\u001b[39mlog_rule(\u001b[38;5;124mf\u001b[39m\u001b[38;5;124m\"\u001b[39m\u001b[38;5;124mStep \u001b[39m\u001b[38;5;132;01m{\u001b[39;00m\u001b[38;5;28mself\u001b[39m\u001b[38;5;241m.\u001b[39mstep_number\u001b[38;5;132;01m}\u001b[39;00m\u001b[38;5;124m\"\u001b[39m, level\u001b[38;5;241m=\u001b[39mLogLevel\u001b[38;5;241m.\u001b[39mINFO)\n\u001b[1;32m--> 358\u001b[0m final_answer \u001b[38;5;241m=\u001b[39m \u001b[38;5;28mself\u001b[39m\u001b[38;5;241m.\u001b[39mstep(memory_step)\n\u001b[0;32m    359\u001b[0m \u001b[38;5;28;01mif\u001b[39;00m final_answer \u001b[38;5;129;01mis\u001b[39;00m \u001b[38;5;129;01mnot\u001b[39;00m \u001b[38;5;28;01mNone\u001b[39;00m \u001b[38;5;129;01mand\u001b[39;00m \u001b[38;5;28mself\u001b[39m\u001b[38;5;241m.\u001b[39mfinal_answer_checks:\n\u001b[0;32m    360\u001b[0m     \u001b[38;5;28mself\u001b[39m\u001b[38;5;241m.\u001b[39m_validate_final_answer(final_answer)\n",
      "File \u001b[1;32m~\\AppData\\Roaming\\Python\\Python311\\site-packages\\smolagents\\agents.py:1202\u001b[0m, in \u001b[0;36mCodeAgent.step\u001b[1;34m(self, memory_step)\u001b[0m\n\u001b[0;32m   1200\u001b[0m     memory_step\u001b[38;5;241m.\u001b[39mmodel_output \u001b[38;5;241m=\u001b[39m model_output\n\u001b[0;32m   1201\u001b[0m \u001b[38;5;28;01mexcept\u001b[39;00m \u001b[38;5;167;01mException\u001b[39;00m \u001b[38;5;28;01mas\u001b[39;00m e:\n\u001b[1;32m-> 1202\u001b[0m     \u001b[38;5;28;01mraise\u001b[39;00m AgentGenerationError(\u001b[38;5;124mf\u001b[39m\u001b[38;5;124m\"\u001b[39m\u001b[38;5;124mError in generating model output:\u001b[39m\u001b[38;5;130;01m\\n\u001b[39;00m\u001b[38;5;132;01m{\u001b[39;00me\u001b[38;5;132;01m}\u001b[39;00m\u001b[38;5;124m\"\u001b[39m, \u001b[38;5;28mself\u001b[39m\u001b[38;5;241m.\u001b[39mlogger) \u001b[38;5;28;01mfrom\u001b[39;00m \u001b[38;5;21;01me\u001b[39;00m\n\u001b[0;32m   1204\u001b[0m \u001b[38;5;28mself\u001b[39m\u001b[38;5;241m.\u001b[39mlogger\u001b[38;5;241m.\u001b[39mlog_markdown(\n\u001b[0;32m   1205\u001b[0m     content\u001b[38;5;241m=\u001b[39mmodel_output,\n\u001b[0;32m   1206\u001b[0m     title\u001b[38;5;241m=\u001b[39m\u001b[38;5;124m\"\u001b[39m\u001b[38;5;124mOutput message of the LLM:\u001b[39m\u001b[38;5;124m\"\u001b[39m,\n\u001b[0;32m   1207\u001b[0m     level\u001b[38;5;241m=\u001b[39mLogLevel\u001b[38;5;241m.\u001b[39mDEBUG,\n\u001b[0;32m   1208\u001b[0m )\n\u001b[0;32m   1210\u001b[0m \u001b[38;5;66;03m# Parse\u001b[39;00m\n",
      "\u001b[1;31mAgentGenerationError\u001b[0m: Error in generating model output:\nlitellm.RateLimitError: RateLimitError: GroqException - {\"error\":{\"message\":\"Rate limit reached for model `llama3-70b-8192` in organization `org_01j6kqmzq1f15v1zj3jm5ytx9m` service tier `on_demand` on tokens per minute (TPM): Limit 6000, Used 1941, Requested 4234. Please try again in 1.746999999s. Need more tokens? Upgrade to Dev Tier today at https://console.groq.com/settings/billing\",\"type\":\"tokens\",\"code\":\"rate_limit_exceeded\"}}\n"
     ]
    }
   ],
   "source": [
    "result = agent.run(task)"
   ]
  },
  {
   "cell_type": "markdown",
   "id": "907d7a44",
   "metadata": {},
   "source": [
    "## Splitting the task between two agent"
   ]
  },
  {
   "cell_type": "code",
   "execution_count": 8,
   "id": "85bff3a4",
   "metadata": {},
   "outputs": [],
   "source": [
    "web_agent = CodeAgent(\n",
    "    model=model,\n",
    "    tools=[\n",
    "        GoogleSearchTool(provider=\"serper\"),\n",
    "        VisitWebpageTool(),\n",
    "        calculate_cargo_travel_time,\n",
    "    ],\n",
    "    name=\"web_agent\",\n",
    "    description=\"Browses the web to find information\",\n",
    "    verbosity_level=0,\n",
    "    max_steps=10,\n",
    ")"
   ]
  },
  {
   "cell_type": "code",
   "execution_count": 9,
   "id": "b20eec57",
   "metadata": {},
   "outputs": [],
   "source": [
    "from smolagents.utils import encode_image_base64, make_image_url\n",
    "from smolagents import OpenAIServerModel\n",
    "\n",
    "\n",
    "def check_reasoning_and_plot(final_answer, agent_memory):\n",
    "    multimodal_model = OpenAIServerModel(\"gpt-4o\", max_tokens=8096)\n",
    "    filepath = \"saved_map.png\"\n",
    "    assert os.path.exists(filepath), \"Make sure to save the plot under saved_map.png!\"\n",
    "    image = Image.open(filepath)\n",
    "    prompt = (\n",
    "        f\"Here is a user-given task and the agent steps: {agent_memory.get_succinct_steps()}. Now here is the plot that was made.\"\n",
    "        \"Please check that the reasoning process and plot are correct: do they correctly answer the given task?\"\n",
    "        \"First list reasons why yes/no, then write your final decision: PASS in caps lock if it is satisfactory, FAIL if it is not.\"\n",
    "        \"Don't be harsh: if the plot mostly solves the task, it should pass.\"\n",
    "        \"To pass, a plot should be made using px.scatter_map and not any other method (scatter_map looks nicer).\"\n",
    "    )\n",
    "    messages = [\n",
    "        {\n",
    "            \"role\": \"user\",\n",
    "            \"content\": [\n",
    "                {\n",
    "                    \"type\": \"text\",\n",
    "                    \"text\": prompt,\n",
    "                },\n",
    "                {\n",
    "                    \"type\": \"image_url\",\n",
    "                    \"image_url\": {\"url\": make_image_url(encode_image_base64(image))},\n",
    "                },\n",
    "            ],\n",
    "        }\n",
    "    ]\n",
    "    output = multimodal_model(messages).content\n",
    "    print(\"Feedback: \", output)\n",
    "    if \"FAIL\" in output:\n",
    "        raise Exception(output)\n",
    "    return True\n",
    "\n",
    "\n",
    "manager_agent = CodeAgent(\n",
    "    model=model,\n",
    "    tools=[calculate_cargo_travel_time],\n",
    "    managed_agents=[web_agent],\n",
    "    additional_authorized_imports=[\n",
    "        \"geopandas\",\n",
    "        \"plotly\",\n",
    "        \"shapely\",\n",
    "        \"json\",\n",
    "        \"pandas\",\n",
    "        \"numpy\",\n",
    "    ],\n",
    "    planning_interval=5,\n",
    "    verbosity_level=2,\n",
    "    final_answer_checks=[check_reasoning_and_plot],\n",
    "    max_steps=15,\n",
    ")"
   ]
  },
  {
   "cell_type": "code",
   "execution_count": 10,
   "id": "c88a6349",
   "metadata": {},
   "outputs": [
    {
     "data": {
      "text/html": [
       "<pre style=\"white-space:pre;overflow-x:auto;line-height:normal;font-family:Menlo,'DejaVu Sans Mono',consolas,'Courier New',monospace\"><span style=\"color: #d4b702; text-decoration-color: #d4b702; font-weight: bold\">CodeAgent | groq/llama3-70b-8192</span>\n",
       "├── ✅ <span style=\"color: #1e90ff; text-decoration-color: #1e90ff; font-style: italic\">Authorized imports:</span> ['geopandas', 'plotly', 'shapely', 'json', 'pandas', 'numpy']\n",
       "├── 🛠️ <span style=\"color: #1e90ff; text-decoration-color: #1e90ff; font-style: italic\">Tools:</span>\n",
       "│   ┏━━━━━━━━━━━━━━━━━━━━━━━━━━━━━┳━━━━━━━━━━━━━━━━━━━━━━━━━━━━━━━━━━━━━━━┳━━━━━━━━━━━━━━━━━━━━━━━━━━━━━━━━━━━━━━━┓\n",
       "│   ┃<span style=\"font-weight: bold\"> Name                        </span>┃<span style=\"font-weight: bold\"> Description                           </span>┃<span style=\"font-weight: bold\"> Arguments                             </span>┃\n",
       "│   ┡━━━━━━━━━━━━━━━━━━━━━━━━━━━━━╇━━━━━━━━━━━━━━━━━━━━━━━━━━━━━━━━━━━━━━━╇━━━━━━━━━━━━━━━━━━━━━━━━━━━━━━━━━━━━━━━┩\n",
       "│   │<span style=\"color: #1e90ff; text-decoration-color: #1e90ff\"> calculate_cargo_travel_time </span>│ Calculate the travel time for a cargo │ origin_coords (`array`): Tuple of     │\n",
       "│   │<span style=\"color: #1e90ff; text-decoration-color: #1e90ff\">                             </span>│ plane between two points on Earth     │ (latitude, longitude) for the         │\n",
       "│   │<span style=\"color: #1e90ff; text-decoration-color: #1e90ff\">                             </span>│ using great-circle distance.          │ starting point                        │\n",
       "│   │<span style=\"color: #1e90ff; text-decoration-color: #1e90ff\">                             </span>│                                       │ destination_coords (`array`): Tuple   │\n",
       "│   │<span style=\"color: #1e90ff; text-decoration-color: #1e90ff\">                             </span>│                                       │ of (latitude, longitude) for the      │\n",
       "│   │<span style=\"color: #1e90ff; text-decoration-color: #1e90ff\">                             </span>│                                       │ destination                           │\n",
       "│   │<span style=\"color: #1e90ff; text-decoration-color: #1e90ff\">                             </span>│                                       │ cruising_speed_kmh (`number`):        │\n",
       "│   │<span style=\"color: #1e90ff; text-decoration-color: #1e90ff\">                             </span>│                                       │ Optional cruising speed in km/h       │\n",
       "│   │<span style=\"color: #1e90ff; text-decoration-color: #1e90ff\">                             </span>│                                       │ (defaults to 750 km/h for typical     │\n",
       "│   │<span style=\"color: #1e90ff; text-decoration-color: #1e90ff\">                             </span>│                                       │ cargo planes)                         │\n",
       "│   │<span style=\"color: #1e90ff; text-decoration-color: #1e90ff\"> final_answer                </span>│ Provides a final answer to the given  │ answer (`any`): The final answer to   │\n",
       "│   │<span style=\"color: #1e90ff; text-decoration-color: #1e90ff\">                             </span>│ problem.                              │ the problem                           │\n",
       "│   └─────────────────────────────┴───────────────────────────────────────┴───────────────────────────────────────┘\n",
       "└── 🤖 <span style=\"color: #1e90ff; text-decoration-color: #1e90ff; font-style: italic\">Managed agents:</span>\n",
       "    └── <span style=\"color: #d4b702; text-decoration-color: #d4b702; font-weight: bold\">web_agent | CodeAgent | groq/llama3-70b-8192</span>\n",
       "        ├── ✅ <span style=\"color: #1e90ff; text-decoration-color: #1e90ff; font-style: italic\">Authorized imports:</span> []\n",
       "        ├── 📝 <span style=\"color: #1e90ff; text-decoration-color: #1e90ff; font-style: italic\">Description:</span> Browses the web to find information\n",
       "        └── 🛠️ <span style=\"color: #1e90ff; text-decoration-color: #1e90ff; font-style: italic\">Tools:</span>\n",
       "            ┏━━━━━━━━━━━━━━━━━━━━━━━━━━━━━┳━━━━━━━━━━━━━━━━━━━━━━━━━━━━━━━━━━━┳━━━━━━━━━━━━━━━━━━━━━━━━━━━━━━━━━━━┓\n",
       "            ┃<span style=\"font-weight: bold\"> Name                        </span>┃<span style=\"font-weight: bold\"> Description                       </span>┃<span style=\"font-weight: bold\"> Arguments                         </span>┃\n",
       "            ┡━━━━━━━━━━━━━━━━━━━━━━━━━━━━━╇━━━━━━━━━━━━━━━━━━━━━━━━━━━━━━━━━━━╇━━━━━━━━━━━━━━━━━━━━━━━━━━━━━━━━━━━┩\n",
       "            │<span style=\"color: #1e90ff; text-decoration-color: #1e90ff\"> web_search                  </span>│ Performs a google web search for  │ query (`string`): The search      │\n",
       "            │<span style=\"color: #1e90ff; text-decoration-color: #1e90ff\">                             </span>│ your query then returns a string  │ query to perform.                 │\n",
       "            │<span style=\"color: #1e90ff; text-decoration-color: #1e90ff\">                             </span>│ of the top search results.        │ filter_year (`integer`):          │\n",
       "            │<span style=\"color: #1e90ff; text-decoration-color: #1e90ff\">                             </span>│                                   │ Optionally restrict results to a  │\n",
       "            │<span style=\"color: #1e90ff; text-decoration-color: #1e90ff\">                             </span>│                                   │ certain year                      │\n",
       "            │<span style=\"color: #1e90ff; text-decoration-color: #1e90ff\"> visit_webpage               </span>│ Visits a webpage at the given url │ url (`string`): The url of the    │\n",
       "            │<span style=\"color: #1e90ff; text-decoration-color: #1e90ff\">                             </span>│ and reads its content as a        │ webpage to visit.                 │\n",
       "            │<span style=\"color: #1e90ff; text-decoration-color: #1e90ff\">                             </span>│ markdown string. Use this to      │                                   │\n",
       "            │<span style=\"color: #1e90ff; text-decoration-color: #1e90ff\">                             </span>│ browse webpages.                  │                                   │\n",
       "            │<span style=\"color: #1e90ff; text-decoration-color: #1e90ff\"> calculate_cargo_travel_time </span>│ Calculate the travel time for a   │ origin_coords (`array`): Tuple of │\n",
       "            │<span style=\"color: #1e90ff; text-decoration-color: #1e90ff\">                             </span>│ cargo plane between two points on │ (latitude, longitude) for the     │\n",
       "            │<span style=\"color: #1e90ff; text-decoration-color: #1e90ff\">                             </span>│ Earth using great-circle          │ starting point                    │\n",
       "            │<span style=\"color: #1e90ff; text-decoration-color: #1e90ff\">                             </span>│ distance.                         │ destination_coords (`array`):     │\n",
       "            │<span style=\"color: #1e90ff; text-decoration-color: #1e90ff\">                             </span>│                                   │ Tuple of (latitude, longitude)    │\n",
       "            │<span style=\"color: #1e90ff; text-decoration-color: #1e90ff\">                             </span>│                                   │ for the destination               │\n",
       "            │<span style=\"color: #1e90ff; text-decoration-color: #1e90ff\">                             </span>│                                   │ cruising_speed_kmh (`number`):    │\n",
       "            │<span style=\"color: #1e90ff; text-decoration-color: #1e90ff\">                             </span>│                                   │ Optional cruising speed in km/h   │\n",
       "            │<span style=\"color: #1e90ff; text-decoration-color: #1e90ff\">                             </span>│                                   │ (defaults to 750 km/h for typical │\n",
       "            │<span style=\"color: #1e90ff; text-decoration-color: #1e90ff\">                             </span>│                                   │ cargo planes)                     │\n",
       "            │<span style=\"color: #1e90ff; text-decoration-color: #1e90ff\"> final_answer                </span>│ Provides a final answer to the    │ answer (`any`): The final answer  │\n",
       "            │<span style=\"color: #1e90ff; text-decoration-color: #1e90ff\">                             </span>│ given problem.                    │ to the problem                    │\n",
       "            └─────────────────────────────┴───────────────────────────────────┴───────────────────────────────────┘\n",
       "</pre>\n"
      ],
      "text/plain": [
       "\u001b[1;38;2;212;183;2mCodeAgent | groq/llama3-70b-8192\u001b[0m\n",
       "├── ✅ \u001b[3;38;2;30;144;255mAuthorized imports:\u001b[0m ['geopandas', 'plotly', 'shapely', 'json', 'pandas', 'numpy']\n",
       "├── 🛠️ \u001b[3;38;2;30;144;255mTools:\u001b[0m\n",
       "│   ┏━━━━━━━━━━━━━━━━━━━━━━━━━━━━━┳━━━━━━━━━━━━━━━━━━━━━━━━━━━━━━━━━━━━━━━┳━━━━━━━━━━━━━━━━━━━━━━━━━━━━━━━━━━━━━━━┓\n",
       "│   ┃\u001b[1m \u001b[0m\u001b[1mName                       \u001b[0m\u001b[1m \u001b[0m┃\u001b[1m \u001b[0m\u001b[1mDescription                          \u001b[0m\u001b[1m \u001b[0m┃\u001b[1m \u001b[0m\u001b[1mArguments                            \u001b[0m\u001b[1m \u001b[0m┃\n",
       "│   ┡━━━━━━━━━━━━━━━━━━━━━━━━━━━━━╇━━━━━━━━━━━━━━━━━━━━━━━━━━━━━━━━━━━━━━━╇━━━━━━━━━━━━━━━━━━━━━━━━━━━━━━━━━━━━━━━┩\n",
       "│   │\u001b[38;2;30;144;255m \u001b[0m\u001b[38;2;30;144;255mcalculate_cargo_travel_time\u001b[0m\u001b[38;2;30;144;255m \u001b[0m│ Calculate the travel time for a cargo │ origin_coords (`array`): Tuple of     │\n",
       "│   │\u001b[38;2;30;144;255m                             \u001b[0m│ plane between two points on Earth     │ (latitude, longitude) for the         │\n",
       "│   │\u001b[38;2;30;144;255m                             \u001b[0m│ using great-circle distance.          │ starting point                        │\n",
       "│   │\u001b[38;2;30;144;255m                             \u001b[0m│                                       │ destination_coords (`array`): Tuple   │\n",
       "│   │\u001b[38;2;30;144;255m                             \u001b[0m│                                       │ of (latitude, longitude) for the      │\n",
       "│   │\u001b[38;2;30;144;255m                             \u001b[0m│                                       │ destination                           │\n",
       "│   │\u001b[38;2;30;144;255m                             \u001b[0m│                                       │ cruising_speed_kmh (`number`):        │\n",
       "│   │\u001b[38;2;30;144;255m                             \u001b[0m│                                       │ Optional cruising speed in km/h       │\n",
       "│   │\u001b[38;2;30;144;255m                             \u001b[0m│                                       │ (defaults to 750 km/h for typical     │\n",
       "│   │\u001b[38;2;30;144;255m                             \u001b[0m│                                       │ cargo planes)                         │\n",
       "│   │\u001b[38;2;30;144;255m \u001b[0m\u001b[38;2;30;144;255mfinal_answer               \u001b[0m\u001b[38;2;30;144;255m \u001b[0m│ Provides a final answer to the given  │ answer (`any`): The final answer to   │\n",
       "│   │\u001b[38;2;30;144;255m                             \u001b[0m│ problem.                              │ the problem                           │\n",
       "│   └─────────────────────────────┴───────────────────────────────────────┴───────────────────────────────────────┘\n",
       "└── 🤖 \u001b[3;38;2;30;144;255mManaged agents:\u001b[0m\n",
       "    └── \u001b[1;38;2;212;183;2mweb_agent | CodeAgent | groq/llama3-70b-8192\u001b[0m\n",
       "        ├── ✅ \u001b[3;38;2;30;144;255mAuthorized imports:\u001b[0m []\n",
       "        ├── 📝 \u001b[3;38;2;30;144;255mDescription:\u001b[0m Browses the web to find information\n",
       "        └── 🛠️ \u001b[3;38;2;30;144;255mTools:\u001b[0m\n",
       "            ┏━━━━━━━━━━━━━━━━━━━━━━━━━━━━━┳━━━━━━━━━━━━━━━━━━━━━━━━━━━━━━━━━━━┳━━━━━━━━━━━━━━━━━━━━━━━━━━━━━━━━━━━┓\n",
       "            ┃\u001b[1m \u001b[0m\u001b[1mName                       \u001b[0m\u001b[1m \u001b[0m┃\u001b[1m \u001b[0m\u001b[1mDescription                      \u001b[0m\u001b[1m \u001b[0m┃\u001b[1m \u001b[0m\u001b[1mArguments                        \u001b[0m\u001b[1m \u001b[0m┃\n",
       "            ┡━━━━━━━━━━━━━━━━━━━━━━━━━━━━━╇━━━━━━━━━━━━━━━━━━━━━━━━━━━━━━━━━━━╇━━━━━━━━━━━━━━━━━━━━━━━━━━━━━━━━━━━┩\n",
       "            │\u001b[38;2;30;144;255m \u001b[0m\u001b[38;2;30;144;255mweb_search                 \u001b[0m\u001b[38;2;30;144;255m \u001b[0m│ Performs a google web search for  │ query (`string`): The search      │\n",
       "            │\u001b[38;2;30;144;255m                             \u001b[0m│ your query then returns a string  │ query to perform.                 │\n",
       "            │\u001b[38;2;30;144;255m                             \u001b[0m│ of the top search results.        │ filter_year (`integer`):          │\n",
       "            │\u001b[38;2;30;144;255m                             \u001b[0m│                                   │ Optionally restrict results to a  │\n",
       "            │\u001b[38;2;30;144;255m                             \u001b[0m│                                   │ certain year                      │\n",
       "            │\u001b[38;2;30;144;255m \u001b[0m\u001b[38;2;30;144;255mvisit_webpage              \u001b[0m\u001b[38;2;30;144;255m \u001b[0m│ Visits a webpage at the given url │ url (`string`): The url of the    │\n",
       "            │\u001b[38;2;30;144;255m                             \u001b[0m│ and reads its content as a        │ webpage to visit.                 │\n",
       "            │\u001b[38;2;30;144;255m                             \u001b[0m│ markdown string. Use this to      │                                   │\n",
       "            │\u001b[38;2;30;144;255m                             \u001b[0m│ browse webpages.                  │                                   │\n",
       "            │\u001b[38;2;30;144;255m \u001b[0m\u001b[38;2;30;144;255mcalculate_cargo_travel_time\u001b[0m\u001b[38;2;30;144;255m \u001b[0m│ Calculate the travel time for a   │ origin_coords (`array`): Tuple of │\n",
       "            │\u001b[38;2;30;144;255m                             \u001b[0m│ cargo plane between two points on │ (latitude, longitude) for the     │\n",
       "            │\u001b[38;2;30;144;255m                             \u001b[0m│ Earth using great-circle          │ starting point                    │\n",
       "            │\u001b[38;2;30;144;255m                             \u001b[0m│ distance.                         │ destination_coords (`array`):     │\n",
       "            │\u001b[38;2;30;144;255m                             \u001b[0m│                                   │ Tuple of (latitude, longitude)    │\n",
       "            │\u001b[38;2;30;144;255m                             \u001b[0m│                                   │ for the destination               │\n",
       "            │\u001b[38;2;30;144;255m                             \u001b[0m│                                   │ cruising_speed_kmh (`number`):    │\n",
       "            │\u001b[38;2;30;144;255m                             \u001b[0m│                                   │ Optional cruising speed in km/h   │\n",
       "            │\u001b[38;2;30;144;255m                             \u001b[0m│                                   │ (defaults to 750 km/h for typical │\n",
       "            │\u001b[38;2;30;144;255m                             \u001b[0m│                                   │ cargo planes)                     │\n",
       "            │\u001b[38;2;30;144;255m \u001b[0m\u001b[38;2;30;144;255mfinal_answer               \u001b[0m\u001b[38;2;30;144;255m \u001b[0m│ Provides a final answer to the    │ answer (`any`): The final answer  │\n",
       "            │\u001b[38;2;30;144;255m                             \u001b[0m│ given problem.                    │ to the problem                    │\n",
       "            └─────────────────────────────┴───────────────────────────────────┴───────────────────────────────────┘\n"
      ]
     },
     "metadata": {},
     "output_type": "display_data"
    }
   ],
   "source": [
    "manager_agent.visualize()"
   ]
  },
  {
   "cell_type": "code",
   "execution_count": 12,
   "id": "c9e5fa58",
   "metadata": {},
   "outputs": [],
   "source": [
    "manager_agent.run(\"\"\"\n",
    "Find all Batman filming locations in the world, calculate the time to transfer via cargo plane to here (we're in Gotham, 40.7128° N, 74.0060° W).\n",
    "Also give me some supercar factories with the same cargo plane transfer time. You need at least 6 points in total.\n",
    "Represent this as spatial map of the world, with the locations represented as scatter points with a color that depends on the travel time, and save it to saved_map.png!\n",
    "\n",
    "Here's an example of how to plot and return a map:\n",
    "import plotly.express as px\n",
    "df = px.data.carshare()\n",
    "fig = px.scatter_map(df, lat=\"centroid_lat\", lon=\"centroid_lon\", text=\"name\", color=\"peak_hour\", size=100,\n",
    "     color_continuous_scale=px.colors.sequential.Magma, size_max=15, zoom=1)\n",
    "fig.show()\n",
    "fig.write_image(\"saved_image.png\")\n",
    "final_answer(fig)\n",
    "\n",
    "Never try to process strings using code: when you have a string to read, just print it and you'll see it.\n",
    "\"\"\")"
   ]
  },
  {
   "cell_type": "code",
   "execution_count": null,
   "id": "46609f6f",
   "metadata": {},
   "outputs": [],
   "source": [
    "batman_locations = manager_agent.run(\"Find all Batman filming locations and get their coordinates.\")\n",
    "transfer_times = manager_agent.run(\"For each location, calculate cargo plane travel time from Gotham.\")\n",
    "supercar_factories = manager_agent.run(\"Find supercar factories with similar travel time.\")"
   ]
  }
 ],
 "metadata": {
  "kernelspec": {
   "display_name": "Python 3 (ipykernel)",
   "language": "python",
   "name": "python3"
  },
  "language_info": {
   "codemirror_mode": {
    "name": "ipython",
    "version": 3
   },
   "file_extension": ".py",
   "mimetype": "text/x-python",
   "name": "python",
   "nbconvert_exporter": "python",
   "pygments_lexer": "ipython3",
   "version": "3.11.4"
  }
 },
 "nbformat": 4,
 "nbformat_minor": 5
}
